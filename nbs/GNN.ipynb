{
  "nbformat": 4,
  "nbformat_minor": 0,
  "metadata": {
    "colab": {
      "provenance": []
    },
    "kernelspec": {
      "name": "python3",
      "display_name": "Python 3"
    },
    "language_info": {
      "name": "python"
    }
  },
  "cells": [
    {
      "cell_type": "code",
      "source": [
        "!pip install torch_geometric -q"
      ],
      "metadata": {
        "id": "xQRb4koyJXCZ"
      },
      "execution_count": null,
      "outputs": []
    },
    {
      "cell_type": "code",
      "execution_count": null,
      "metadata": {
        "id": "t1uMJ2GCJJEB"
      },
      "outputs": [],
      "source": [
        "from torch_geometric.datasets import *\n",
        "import torch_geometric.transforms as T\n",
        "\n",
        "import time\n",
        "\n",
        "import torch\n",
        "import torch.nn.functional as F\n",
        "from torch import tensor\n",
        "from torch.optim import Adam\n",
        "import numpy as np\n",
        "from torch_geometric.utils import *\n",
        "import networkx as nx\n",
        "from tqdm import tqdm"
      ]
    },
    {
      "cell_type": "code",
      "source": [
        "url = f\"https://data.pyg.org/whl/torch-{torch.__version__}.html\"\n",
        "!pip install torch-scatter -f {url}"
      ],
      "metadata": {
        "id": "3U0ZLPsUQN3p"
      },
      "execution_count": null,
      "outputs": []
    },
    {
      "cell_type": "code",
      "source": [
        "from torch.nn import Linear\n",
        "import torch.nn.functional as F\n",
        "from torch_geometric.nn.conv import MessagePassing, GCNConv\n",
        "from torch_scatter import scatter_add\n",
        "from torch_geometric.utils import add_remaining_self_loops\n",
        "import torch.nn as nn"
      ],
      "metadata": {
        "id": "FCqcWa6zO5wy"
      },
      "execution_count": null,
      "outputs": []
    },
    {
      "cell_type": "code",
      "source": [
        "Linear(10,2).reset_parameters()"
      ],
      "metadata": {
        "id": "cc6wMX8YTQZG"
      },
      "execution_count": null,
      "outputs": []
    },
    {
      "cell_type": "code",
      "source": [
        "def gcn_norm(edge_index, edge_weight=None, num_nodes=None, improved=False,\n",
        "             add_self_loops=True, dtype=None):\n",
        "\n",
        "    fill_value = 2. if improved else 1.\n",
        "    num_nodes = int(edge_index.max()) + 1 if num_nodes is None else num_nodes\n",
        "    if edge_weight is None:\n",
        "        edge_weight = torch.ones((edge_index.size(1), ), dtype=dtype,\n",
        "                                 device=edge_index.device)\n",
        "\n",
        "    if add_self_loops:\n",
        "        edge_index, tmp_edge_weight = add_remaining_self_loops(\n",
        "            edge_index, edge_weight, fill_value, num_nodes)\n",
        "        assert tmp_edge_weight is not None\n",
        "        edge_weight = tmp_edge_weight\n",
        "\n",
        "    row, col = edge_index[0], edge_index[1]\n",
        "    deg = scatter_add(edge_weight, col, dim=0, dim_size=num_nodes)\n",
        "    deg_inv_sqrt = deg.pow_(-0.5)\n",
        "    deg_inv_sqrt.masked_fill_(deg_inv_sqrt == float('inf'), 0)\n",
        "    return edge_index, deg_inv_sqrt[row] * edge_weight * deg_inv_sqrt[col]\n",
        "\n",
        "class Prop(MessagePassing):\n",
        "    def __init__(self, num_classes, K, bias=True, **kwargs):\n",
        "        super(Prop, self).__init__(aggr='add', **kwargs)\n",
        "        self.K = K\n",
        "        self.proj = Linear(num_classes, 1)\n",
        "\n",
        "    def forward(self, x, edge_index, edge_weight=None):\n",
        "        # edge_index, norm = GCNConv.norm(edge_index, x.size(0), edge_weight, dtype=x.dtype)\n",
        "        edge_index, norm = gcn_norm(edge_index, edge_weight, x.size(0), dtype=x.dtype)\n",
        "\n",
        "\n",
        "        preds = []\n",
        "        preds.append(x)\n",
        "        for k in range(self.K):\n",
        "            x = self.propagate(edge_index, x=x, norm=norm)\n",
        "            preds.append(x)\n",
        "\n",
        "        pps = torch.stack(preds, dim=1)\n",
        "        retain_score = self.proj(pps)\n",
        "        retain_score = retain_score.squeeze()\n",
        "        retain_score = torch.sigmoid(retain_score)\n",
        "        retain_score = retain_score.unsqueeze(1)\n",
        "        out = torch.matmul(retain_score, pps).squeeze()\n",
        "        return out\n",
        "\n",
        "    def message(self, x_j, norm):\n",
        "        return norm.view(-1, 1) * x_j\n",
        "\n",
        "    def __repr__(self):\n",
        "        return '{}(K={})'.format(self.__class__.__name__, self.K)\n",
        "\n",
        "\n",
        "class Net(torch.nn.Module):\n",
        "    def __init__(self, ni,nf,dp=0.5):\n",
        "        super(Net, self).__init__()\n",
        "\n",
        "        # linear layer\n",
        "        self.lin = nn.Sequential(nn.Dropout(dp),\n",
        "                                  Linear(ni, ni//4),\n",
        "                                  nn.ReLU(),\n",
        "                                  nn.Dropout(dp),\n",
        "                                  Linear(ni//4, nf) )\n",
        "\n",
        "        # MPNN\n",
        "        self.prop = Prop(nf, 10)\n",
        "\n",
        "    def forward(self, data):\n",
        "        x, edge_index = data.x, data.edge_index\n",
        "\n",
        "        x = self.lin(x)\n",
        "\n",
        "        x = self.prop(x, edge_index)\n",
        "\n",
        "        # x = F.log_softmax(x, dim=1) # for classification\n",
        "\n",
        "        return x"
      ],
      "metadata": {
        "id": "ZhmEBo_KOzIh"
      },
      "execution_count": null,
      "outputs": []
    },
    {
      "cell_type": "code",
      "source": [
        "ni = dataset.num_features\n",
        "nf = dataset.num_classes\n",
        "ni,nf"
      ],
      "metadata": {
        "colab": {
          "base_uri": "https://localhost:8080/"
        },
        "id": "CwXGSGxHYLMt",
        "outputId": "1d238015-6cb1-4214-86d0-45c0f69fe126"
      },
      "execution_count": null,
      "outputs": [
        {
          "output_type": "execute_result",
          "data": {
            "text/plain": [
              "(1433, 7)"
            ]
          },
          "metadata": {},
          "execution_count": 51
        }
      ]
    },
    {
      "cell_type": "code",
      "source": [
        "model = Net(ni,nf)"
      ],
      "metadata": {
        "id": "lu_JJKrXR2Bn"
      },
      "execution_count": null,
      "outputs": []
    },
    {
      "cell_type": "code",
      "source": [
        "data.x.shape"
      ],
      "metadata": {
        "colab": {
          "base_uri": "https://localhost:8080/"
        },
        "id": "UO8KNdZxYbXK",
        "outputId": "81ff5a7e-aaad-4d3b-aabd-fb6ebd8c2b8f"
      },
      "execution_count": null,
      "outputs": [
        {
          "output_type": "execute_result",
          "data": {
            "text/plain": [
              "torch.Size([2708, 1433])"
            ]
          },
          "metadata": {},
          "execution_count": 72
        }
      ]
    },
    {
      "cell_type": "code",
      "source": [
        "data.edge_index"
      ],
      "metadata": {
        "colab": {
          "base_uri": "https://localhost:8080/"
        },
        "id": "OGev4snFYjfb",
        "outputId": "c2ddcf2a-184b-4d5b-b139-05ce28f6d165"
      },
      "execution_count": null,
      "outputs": [
        {
          "output_type": "execute_result",
          "data": {
            "text/plain": [
              "tensor([[   0,    0,    0,  ..., 2707, 2707, 2707],\n",
              "        [ 633, 1862, 2582,  ...,  598, 1473, 2706]])"
            ]
          },
          "metadata": {},
          "execution_count": 64
        }
      ]
    },
    {
      "cell_type": "code",
      "source": [
        "model"
      ],
      "metadata": {
        "colab": {
          "base_uri": "https://localhost:8080/"
        },
        "id": "CVkwKAe5YgDk",
        "outputId": "7714e0b7-7b75-4dfe-9855-1cdc2553be50"
      },
      "execution_count": null,
      "outputs": [
        {
          "output_type": "execute_result",
          "data": {
            "text/plain": [
              "Net(\n",
              "  (lin): Sequential(\n",
              "    (0): Dropout(p=0.5, inplace=False)\n",
              "    (1): Linear(in_features=1433, out_features=358, bias=True)\n",
              "    (2): ReLU()\n",
              "    (3): Dropout(p=0.5, inplace=False)\n",
              "    (4): Linear(in_features=358, out_features=7, bias=True)\n",
              "  )\n",
              "  (prop): Prop(K=10)\n",
              ")"
            ]
          },
          "metadata": {},
          "execution_count": 57
        }
      ]
    },
    {
      "cell_type": "code",
      "source": [
        "out = model(data)"
      ],
      "metadata": {
        "id": "JB6ASEFAX81r"
      },
      "execution_count": null,
      "outputs": []
    },
    {
      "cell_type": "code",
      "source": [
        "out.shape"
      ],
      "metadata": {
        "colab": {
          "base_uri": "https://localhost:8080/"
        },
        "id": "F06Twol-YYjs",
        "outputId": "3a1740cf-6b6d-4dcc-e5bb-47e7cfd6f5c6"
      },
      "execution_count": null,
      "outputs": [
        {
          "output_type": "execute_result",
          "data": {
            "text/plain": [
              "torch.Size([2708, 7])"
            ]
          },
          "metadata": {},
          "execution_count": 71
        }
      ]
    },
    {
      "cell_type": "code",
      "source": [
        "data"
      ],
      "metadata": {
        "colab": {
          "base_uri": "https://localhost:8080/"
        },
        "id": "6ziLyZ8kXxRD",
        "outputId": "4f9f7059-bc7e-40c1-ac6a-334a2ddb252e"
      },
      "execution_count": null,
      "outputs": [
        {
          "output_type": "execute_result",
          "data": {
            "text/plain": [
              "Data(x=[2708, 1433], edge_index=[2, 10556], y=[2708], train_mask=[2708], val_mask=[2708], test_mask=[2708])"
            ]
          },
          "metadata": {},
          "execution_count": 44
        }
      ]
    },
    {
      "cell_type": "code",
      "source": [
        "model"
      ],
      "metadata": {
        "colab": {
          "base_uri": "https://localhost:8080/"
        },
        "id": "E27JYCI2XlH2",
        "outputId": "117a5dd9-8b2b-4fd1-ebda-7fbda850cc59"
      },
      "execution_count": null,
      "outputs": [
        {
          "output_type": "execute_result",
          "data": {
            "text/plain": [
              "Net(\n",
              "  (lin): Sequential(\n",
              "    (0): Dropout(p=0.5, inplace=False)\n",
              "    (1): Linear(in_features=1433, out_features=358, bias=True)\n",
              "    (2): ReLU()\n",
              "    (3): Dropout(p=0.5, inplace=False)\n",
              "    (4): Linear(in_features=358, out_features=7, bias=True)\n",
              "  )\n",
              "  (prop): Prop(K=10)\n",
              ")"
            ]
          },
          "metadata": {},
          "execution_count": 43
        }
      ]
    },
    {
      "cell_type": "code",
      "source": [],
      "metadata": {
        "id": "vbhpI3MPc93o"
      },
      "execution_count": null,
      "outputs": []
    },
    {
      "cell_type": "code",
      "source": [
        "def get_data( normalize_features=False, transform=None):\n",
        "    dataset = QM7b('.')\n",
        "\n",
        "    if transform is not None and normalize_features:\n",
        "        dataset.transform = T.Compose([T.NormalizeFeatures(), transform])\n",
        "    elif normalize_features:\n",
        "        dataset.transform = T.NormalizeFeatures()\n",
        "    elif transform is not None:\n",
        "        dataset.transform = transform\n",
        "\n",
        "    return dataset"
      ],
      "metadata": {
        "id": "5m18KBZSJQRH"
      },
      "execution_count": null,
      "outputs": []
    },
    {
      "cell_type": "code",
      "source": [
        "dataset = get_data()"
      ],
      "metadata": {
        "colab": {
          "base_uri": "https://localhost:8080/"
        },
        "id": "78cDihr7dHHX",
        "outputId": "66fa0e37-91db-40b8-929c-8e1746a06c74"
      },
      "execution_count": null,
      "outputs": [
        {
          "output_type": "stream",
          "name": "stderr",
          "text": [
            "Downloading https://deepchemdata.s3-us-west-1.amazonaws.com/datasets/qm7b.mat\n",
            "Processing...\n",
            "Done!\n"
          ]
        }
      ]
    },
    {
      "cell_type": "code",
      "source": [
        "dataset = get_planetoid('cora')"
      ],
      "metadata": {
        "id": "2WKHDfDFJpLM"
      },
      "execution_count": null,
      "outputs": []
    },
    {
      "cell_type": "code",
      "source": [
        "dataset[10]"
      ],
      "metadata": {
        "colab": {
          "base_uri": "https://localhost:8080/"
        },
        "id": "VgP6o_X0dPrP",
        "outputId": "9aa2428d-ebf3-4f89-cd1a-41dfa29eb1ca"
      },
      "execution_count": null,
      "outputs": [
        {
          "output_type": "execute_result",
          "data": {
            "text/plain": [
              "tensor([[0, 0, 0, 0, 0, 0, 1, 1, 1, 1, 1, 1, 2, 2, 2, 2, 2, 2, 3, 3, 3, 3, 3, 3,\n",
              "         4, 4, 4, 4, 4, 4, 5, 5, 5, 5, 5, 5],\n",
              "        [0, 1, 2, 3, 4, 5, 0, 1, 2, 3, 4, 5, 0, 1, 2, 3, 4, 5, 0, 1, 2, 3, 4, 5,\n",
              "         0, 1, 2, 3, 4, 5, 0, 1, 2, 3, 4, 5]])"
            ]
          },
          "metadata": {},
          "execution_count": 87
        }
      ]
    },
    {
      "cell_type": "code",
      "source": [
        "dataset.get_summary()"
      ],
      "metadata": {
        "colab": {
          "base_uri": "https://localhost:8080/"
        },
        "id": "vsTz5o7xdLPS",
        "outputId": "024b2059-73c0-44ab-ea3a-85f6e4a134cc"
      },
      "execution_count": null,
      "outputs": [
        {
          "output_type": "execute_result",
          "data": {
            "text/plain": [
              "QM7b (#graphs=7211):\n",
              "+------------+----------+----------+\n",
              "|            |   #nodes |   #edges |\n",
              "|------------+----------+----------|\n",
              "| mean       |     15.4 |    245   |\n",
              "| std        |      2.7 |     82.7 |\n",
              "| min        |      4   |     16   |\n",
              "| quantile25 |     14   |    196   |\n",
              "| median     |     15   |    225   |\n",
              "| quantile75 |     17   |    289   |\n",
              "| max        |     23   |    529   |\n",
              "+------------+----------+----------+"
            ]
          },
          "metadata": {},
          "execution_count": 77
        }
      ]
    },
    {
      "cell_type": "code",
      "source": [
        "data = dataset[0]"
      ],
      "metadata": {
        "id": "mE22i6n5LNf0"
      },
      "execution_count": null,
      "outputs": []
    },
    {
      "cell_type": "code",
      "source": [
        "data"
      ],
      "metadata": {
        "colab": {
          "base_uri": "https://localhost:8080/"
        },
        "id": "LeG_IhDkMPny",
        "outputId": "9c80bc7f-c3d2-4151-b8a0-cf0ab23a6b77"
      },
      "execution_count": null,
      "outputs": [
        {
          "output_type": "execute_result",
          "data": {
            "text/plain": [
              "Data(x=[2708, 1433], edge_index=[2, 10556], y=[2708], train_mask=[2708], val_mask=[2708], test_mask=[2708])"
            ]
          },
          "metadata": {},
          "execution_count": 19
        }
      ]
    },
    {
      "cell_type": "code",
      "source": [
        "runs=5\n",
        "pbar = tqdm(range(runs), unit='run')"
      ],
      "metadata": {
        "colab": {
          "base_uri": "https://localhost:8080/"
        },
        "id": "tS8NOzLuLOaq",
        "outputId": "58179f96-ad79-43ce-f852-7c57603a62e6"
      },
      "execution_count": null,
      "outputs": [
        {
          "output_type": "stream",
          "name": "stderr",
          "text": [
            "\r  0%|          | 0/5 [00:00<?, ?run/s]"
          ]
        }
      ]
    },
    {
      "cell_type": "code",
      "source": [
        "for i in pbar:\n",
        "  print('aa')"
      ],
      "metadata": {
        "colab": {
          "base_uri": "https://localhost:8080/"
        },
        "id": "qu13Hyu2LRB8",
        "outputId": "d484eeab-7e11-465a-81c4-9aba9bdbd655"
      },
      "execution_count": null,
      "outputs": [
        {
          "output_type": "stream",
          "name": "stderr",
          "text": [
            "100%|██████████| 5/5 [00:20<00:00,  4.10s/run]"
          ]
        },
        {
          "output_type": "stream",
          "name": "stdout",
          "text": [
            "aa\n",
            "aa\n",
            "aa\n",
            "aa\n",
            "aa\n"
          ]
        },
        {
          "output_type": "stream",
          "name": "stderr",
          "text": [
            "\n"
          ]
        }
      ]
    },
    {
      "cell_type": "code",
      "source": [
        "device='cpu'\n",
        "data = data.to(device)"
      ],
      "metadata": {
        "id": "AKOecZxYMhOr"
      },
      "execution_count": null,
      "outputs": []
    },
    {
      "cell_type": "code",
      "source": [],
      "metadata": {
        "id": "C5fUmTFmOhR7"
      },
      "execution_count": null,
      "outputs": []
    }
  ]
}