{
  "nbformat": 4,
  "nbformat_minor": 0,
  "metadata": {
    "colab": {
      "provenance": []
    },
    "kernelspec": {
      "name": "python3",
      "display_name": "Python 3"
    },
    "language_info": {
      "name": "python"
    }
  },
  "cells": [
    {
      "cell_type": "markdown",
      "source": [
        "## KRASi data preprocessing"
      ],
      "metadata": {
        "id": "Dvh6MaH_uvzR"
      }
    },
    {
      "cell_type": "code",
      "execution_count": null,
      "metadata": {
        "id": "Eg_LXWt8X_Pz"
      },
      "outputs": [],
      "source": [
        "import pandas as pd"
      ]
    },
    {
      "cell_type": "code",
      "source": [
        "df = pd.read_csv('all.csv')"
      ],
      "metadata": {
        "id": "HWgQxShoYENC"
      },
      "execution_count": null,
      "outputs": []
    },
    {
      "cell_type": "code",
      "source": [
        "df.ID.str.split('_').str[0].value_counts()"
      ],
      "metadata": {
        "colab": {
          "base_uri": "https://localhost:8080/"
        },
        "id": "cgNabFPln2pz",
        "outputId": "a2f544ca-618f-4d5d-9a53-df855a59adea"
      },
      "execution_count": null,
      "outputs": [
        {
          "output_type": "execute_result",
          "data": {
            "text/plain": [
              "US           425\n",
              "azaq         365\n",
              "tetra        220\n",
              "quina        161\n",
              "646          111\n",
              "31678         61\n",
              "paper         34\n",
              "625           29\n",
              "BI-2865        1\n",
              "precursor      1\n",
              "BI-0474        1\n",
              "Sotorasib      1\n",
              "Name: ID, dtype: int64"
            ]
          },
          "metadata": {},
          "execution_count": 40
        }
      ]
    },
    {
      "cell_type": "code",
      "source": [
        "df['ID'] = df.ID.replace({'BI-2865':'nature_BI-2865',\n",
        "                      'precursor_1':'nature_precursor1',\n",
        "                      'BI-0474':'nature_BI-0474',\n",
        "                      'Sotorasib':'nature_Sotorasib'})"
      ],
      "metadata": {
        "id": "93-7gjqAsyw5"
      },
      "execution_count": null,
      "outputs": []
    },
    {
      "cell_type": "code",
      "source": [
        "df['ID'] = df.ID.str.replace(\"^31678_\", \"678_\", regex=True)"
      ],
      "metadata": {
        "id": "qVDiLp7bte--"
      },
      "execution_count": null,
      "outputs": []
    },
    {
      "cell_type": "code",
      "source": [
        "df.ID.str.split('_').str[0].value_counts()"
      ],
      "metadata": {
        "colab": {
          "base_uri": "https://localhost:8080/"
        },
        "id": "3FWuJ29zt1M8",
        "outputId": "d90d747b-2fc0-40e8-d7ba-6087065fa7f7"
      },
      "execution_count": null,
      "outputs": [
        {
          "output_type": "execute_result",
          "data": {
            "text/plain": [
              "US        425\n",
              "azaq      365\n",
              "tetra     220\n",
              "quina     161\n",
              "646       111\n",
              "678        61\n",
              "paper      34\n",
              "625        29\n",
              "nature      4\n",
              "Name: ID, dtype: int64"
            ]
          },
          "metadata": {},
          "execution_count": 53
        }
      ]
    },
    {
      "cell_type": "code",
      "source": [
        "df['source'] = df.ID.str.split('_').str[0]"
      ],
      "metadata": {
        "id": "Rkq0nvmDYFiX"
      },
      "execution_count": null,
      "outputs": []
    },
    {
      "cell_type": "markdown",
      "source": [
        "## Remove similar compounds, and average their target"
      ],
      "metadata": {
        "id": "N9492SqEur3h"
      }
    },
    {
      "cell_type": "code",
      "source": [
        "!pip install rdkit -qq"
      ],
      "metadata": {
        "colab": {
          "base_uri": "https://localhost:8080/"
        },
        "id": "QYss6jM2u_1t",
        "outputId": "c38ad3f4-f20a-4531-a12e-86d91fc9e9e4"
      },
      "execution_count": null,
      "outputs": [
        {
          "output_type": "stream",
          "name": "stdout",
          "text": [
            "Collecting rdkit\n",
            "  Downloading rdkit-2023.9.4-cp310-cp310-manylinux_2_17_x86_64.manylinux2014_x86_64.whl (34.4 MB)\n",
            "\u001b[2K     \u001b[90m━━━━━━━━━━━━━━━━━━━━━━━━━━━━━━━━━━━━━━━━\u001b[0m \u001b[32m34.4/34.4 MB\u001b[0m \u001b[31m20.2 MB/s\u001b[0m eta \u001b[36m0:00:00\u001b[0m\n",
            "\u001b[?25hRequirement already satisfied: numpy in /usr/local/lib/python3.10/dist-packages (from rdkit) (1.23.5)\n",
            "Requirement already satisfied: Pillow in /usr/local/lib/python3.10/dist-packages (from rdkit) (9.4.0)\n",
            "Installing collected packages: rdkit\n",
            "Successfully installed rdkit-2023.9.4\n"
          ]
        }
      ]
    },
    {
      "cell_type": "code",
      "source": [
        "from rdkit import Chem\n",
        "from rdkit.Chem import AllChem, DataStructs"
      ],
      "metadata": {
        "id": "wQA6bhnhu4OZ"
      },
      "execution_count": null,
      "outputs": []
    },
    {
      "cell_type": "code",
      "source": [
        "df.columns"
      ],
      "metadata": {
        "colab": {
          "base_uri": "https://localhost:8080/"
        },
        "id": "EP97nWhZvHdp",
        "outputId": "c9090f16-350e-4cc6-b274-1416cdd817de"
      },
      "execution_count": null,
      "outputs": [
        {
          "output_type": "execute_result",
          "data": {
            "text/plain": [
              "Index(['ID', 'SMILES', 'Kd', 'IC50', 'erk_IC50', 'source'], dtype='object')"
            ]
          },
          "metadata": {},
          "execution_count": 62
        }
      ]
    },
    {
      "cell_type": "code",
      "source": [
        "out = tanimoto(df,target_col = 'IC50')"
      ],
      "metadata": {
        "id": "OkO-EkoAvGTI"
      },
      "execution_count": null,
      "outputs": []
    },
    {
      "cell_type": "code",
      "source": [
        "out.loc[out.SimilarityScore>0.9].to_csv('ss.csv',index=False)"
      ],
      "metadata": {
        "id": "TUvoW-x2v6YT"
      },
      "execution_count": null,
      "outputs": []
    },
    {
      "cell_type": "code",
      "source": [
        "def tanimoto(df, #pandas DataFrame with SMILES and ID columns.\n",
        "             smiles_col='SMILES', #name of the column containing the SMILES strings (default: 'SMILES').\n",
        "             id_col='ID', #name of the column containing the molecule IDs (default: 'ID').\n",
        "             target_col=None, #name of the column containing the target values (default: None).\n",
        "             radius=2, #radius of the Morgan fingerprint (default: 2).\n",
        "            ):\n",
        "    \"\"\"\n",
        "    Calculates the Tanimoto similarity scores between all pairs of molecules in a pandas DataFrame.\n",
        "\n",
        "    \"\"\"\n",
        "    df = df.copy()\n",
        "    # Convert SMILES to molecule objects\n",
        "    df['Molecule'] = df[smiles_col].apply(lambda x: Chem.MolFromSmiles(x))\n",
        "\n",
        "    # Calculate fingerprints\n",
        "    df['Fingerprint'] = df['Molecule'].apply(lambda x: AllChem.GetMorganFingerprintAsBitVect(x, radius))\n",
        "\n",
        "    # Calculate similarity scores\n",
        "    similarity_scores = []\n",
        "    for i in range(len(df)):\n",
        "        for j in range(i+1, len(df)):\n",
        "            sim_score = DataStructs.TanimotoSimilarity(df['Fingerprint'][i], df['Fingerprint'][j])\n",
        "            if target_col is not None:\n",
        "                similarity_scores.append((df[id_col][i], df[id_col][j], df[smiles_col][i], df[smiles_col][j], sim_score, df[target_col][i], df[target_col][j]))\n",
        "            else:\n",
        "                similarity_scores.append((df[id_col][i], df[id_col][j], df[smiles_col][i], df[smiles_col][j], sim_score))\n",
        "\n",
        "    # Create a new DataFrame with the similarity scores\n",
        "    if target_col is not None:\n",
        "        result_df = pd.DataFrame(similarity_scores, columns=['ID1', 'ID2', 'SMILES1', 'SMILES2', 'SimilarityScore', 'Target1', 'Target2'])\n",
        "    else:\n",
        "        result_df = pd.DataFrame(similarity_scores, columns=['ID1', 'ID2', 'SMILES1', 'SMILES2', 'SimilarityScore'])\n",
        "\n",
        "    # Sort by similarity score in descending order\n",
        "    result_df.sort_values('SimilarityScore', ascending=False, inplace=True)\n",
        "    result_df = result_df.reset_index(drop=True)\n",
        "\n",
        "    return result_df"
      ],
      "metadata": {
        "id": "m1MrWg4TsbUY"
      },
      "execution_count": null,
      "outputs": []
    },
    {
      "cell_type": "code",
      "source": [
        "from rdkit.Chem.Scaffolds import MurckoScaffold"
      ],
      "metadata": {
        "id": "zDxTYSemylqM"
      },
      "execution_count": null,
      "outputs": []
    },
    {
      "cell_type": "code",
      "source": [
        "# Generate scaffolds\n",
        "def generate_scaffold(smiles, include_chirality=False):\n",
        "    mol = Chem.MolFromSmiles(smiles)\n",
        "    scaffold = MurckoScaffold.MurckoScaffoldSmiles(mol=mol, includeChirality=include_chirality)\n",
        "    return scaffold\n",
        "\n"
      ],
      "metadata": {
        "id": "ENmH-bOfuA0S"
      },
      "execution_count": null,
      "outputs": []
    },
    {
      "cell_type": "code",
      "source": [
        "df['Scaffold'] = df['SMILES'].apply(lambda x: generate_scaffold(x))"
      ],
      "metadata": {
        "id": "UiLQzREfwyOs"
      },
      "execution_count": null,
      "outputs": []
    },
    {
      "cell_type": "code",
      "source": [
        "df['Scaffold'].value_counts()"
      ],
      "metadata": {
        "colab": {
          "base_uri": "https://localhost:8080/"
        },
        "id": "suATbhTQyi1M",
        "outputId": "ca8e17e7-e4e3-424d-9678-da44636a9afc"
      },
      "execution_count": null,
      "outputs": [
        {
          "output_type": "execute_result",
          "data": {
            "text/plain": [
              "c1ccc2c(-c3cc4nc(OCC56CCCN5CCC6)nc(N5CC6CCC(C5)N6)c4cn3)cccc2c1    103\n",
              "c1ccc(-c2cc3nc(OCC45CCCN4CCC5)nc(N4CC5CCC(C4)N5)c3cn2)cc1           70\n",
              "c1ccc2c(-c3cc4nc(OCC56CCCN5CCC6)nc(N5CCCCC5)c4cn3)cccc2c1           70\n",
              "c1ccc2c(-c3cc4nc(OCC5CCCN5)nc(N5CC6CCC(C5)N6)c4cn3)cccc2c1          45\n",
              "c1ccc2c(N3CCc4c(nc(OCC5CCCN5)nc4N4CC5CCC(C4)N5)C3)cccc2c1           40\n",
              "                                                                  ... \n",
              "c1ccc2c(-c3ccc4c(N5CCNCC5)nc(OCC5CCCN5)nc4c3)cccc2c1                 1\n",
              "c1ccc2c(-c3cc4nc(OCC56CCCN5CCC6)nc(Nc5ccon5)c4cn3)cccc2c1            1\n",
              "c1cc(OCC2CCCN2)nc(-c2noc(C3CCCc4sccc43)n2)n1                         1\n",
              "c1ccc(C2CC2)c(-c2cc3nc(OCC45CCCN4CCC5)nc(NCC4CCC4)c3cn2)c1           1\n",
              "c1ccc(COc2nc(N3CC4CCC(C3)N4)c3cnc(-c4cccc5ccccc45)cc3n2)cc1          1\n",
              "Name: Scaffold, Length: 490, dtype: int64"
            ]
          },
          "metadata": {},
          "execution_count": 81
        }
      ]
    },
    {
      "cell_type": "code",
      "source": [
        "from sklearn.model_selection import train_test_split\n"
      ],
      "metadata": {
        "id": "875YyRj6y-4B"
      },
      "execution_count": null,
      "outputs": []
    },
    {
      "cell_type": "code",
      "source": [
        "scaffold_series = df['Scaffold']\n",
        "scaffolds = scaffold_series.unique()\n",
        "train_scaffolds, test_scaffolds = train_test_split(scaffolds, test_size=0.2, random_state=42)\n"
      ],
      "metadata": {
        "id": "alTECvGPyn3b"
      },
      "execution_count": null,
      "outputs": []
    },
    {
      "cell_type": "code",
      "source": [
        "def in_scaffold_set(scaffold, scaffold_set):\n",
        "    return scaffold in scaffold_set\n",
        "\n",
        "# Assign molecules to the train or test set based on their scaffold\n",
        "df['Set'] = df.apply(lambda x: 'Train' if in_scaffold_set(x['Scaffold'], train_scaffolds) else 'Test', axis=1)\n"
      ],
      "metadata": {
        "id": "gqsNhJswy_Sj"
      },
      "execution_count": null,
      "outputs": []
    },
    {
      "cell_type": "code",
      "source": [
        "out = tanimoto(df,target_col = 'Set')"
      ],
      "metadata": {
        "id": "qozm3VSszD5B"
      },
      "execution_count": null,
      "outputs": []
    },
    {
      "cell_type": "code",
      "source": [
        "out.loc[out.SimilarityScore>0.9].to_csv('ss2.csv',index=False)"
      ],
      "metadata": {
        "id": "UNeMkLZyzEhW"
      },
      "execution_count": null,
      "outputs": []
    },
    {
      "cell_type": "code",
      "source": [],
      "metadata": {
        "id": "ZOaHpJGk0Dmy"
      },
      "execution_count": null,
      "outputs": []
    }
  ]
}