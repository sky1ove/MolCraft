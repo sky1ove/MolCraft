{
 "cells": [
  {
   "cell_type": "markdown",
   "metadata": {
    "id": "04iu3eyoK6ew"
   },
   "source": [
    "# Chemprop functions"
   ]
  },
  {
   "cell_type": "markdown",
   "metadata": {
    "id": "6jZnD-vU9Fd-"
   },
   "source": [
    "## Setup"
   ]
  },
  {
   "cell_type": "code",
   "execution_count": 82,
   "metadata": {},
   "outputs": [],
   "source": [
    "#|default_exp chemprop"
   ]
  },
  {
   "cell_type": "code",
   "execution_count": 84,
   "metadata": {
    "colab": {
     "base_uri": "https://localhost:8080/"
    },
    "id": "MXg_hrWsHyf8",
    "outputId": "48cccced-7a64-4c87-a30b-670b4d518df4"
   },
   "outputs": [],
   "source": [
    "# !pip install descriptastorus chemprop rdkit scipy -Uqq"
   ]
  },
  {
   "cell_type": "code",
   "execution_count": 85,
   "metadata": {
    "id": "WGZxehx_44Rj"
   },
   "outputs": [],
   "source": [
    "#|export\n",
    "import chemprop, pandas as pd, numpy as np\n",
    "from MolCraft.utils import *"
   ]
  },
  {
   "cell_type": "code",
   "execution_count": 10,
   "metadata": {},
   "outputs": [],
   "source": [
    "# if error import scipy gibrat\n",
    "# !pip install scipy -U\n",
    "\n",
    "# import scipy\n",
    "\n",
    "# scipy.__version__"
   ]
  },
  {
   "cell_type": "markdown",
   "metadata": {
    "id": "N2kw6TDwjnKA"
   },
   "source": [
    "## Load Data"
   ]
  },
  {
   "cell_type": "code",
   "execution_count": 5,
   "metadata": {},
   "outputs": [],
   "source": [
    "df = pd.read_csv('dataset/all2.csv')"
   ]
  },
  {
   "cell_type": "code",
   "execution_count": 6,
   "metadata": {},
   "outputs": [
    {
     "data": {
      "text/html": [
       "<div>\n",
       "<style scoped>\n",
       "    .dataframe tbody tr th:only-of-type {\n",
       "        vertical-align: middle;\n",
       "    }\n",
       "\n",
       "    .dataframe tbody tr th {\n",
       "        vertical-align: top;\n",
       "    }\n",
       "\n",
       "    .dataframe thead th {\n",
       "        text-align: right;\n",
       "    }\n",
       "</style>\n",
       "<table border=\"1\" class=\"dataframe\">\n",
       "  <thead>\n",
       "    <tr style=\"text-align: right;\">\n",
       "      <th></th>\n",
       "      <th>ID</th>\n",
       "      <th>SMILES</th>\n",
       "      <th>Kd</th>\n",
       "      <th>IC50</th>\n",
       "      <th>erk_IC50</th>\n",
       "    </tr>\n",
       "  </thead>\n",
       "  <tbody>\n",
       "    <tr>\n",
       "      <th>0</th>\n",
       "      <td>US_284</td>\n",
       "      <td>Oc1cc(Cl)c(C(F)(F)F)c(-c2ncc3c(N4CC5CCC(C4)N5)...</td>\n",
       "      <td>NaN</td>\n",
       "      <td>0.1</td>\n",
       "      <td>17.4</td>\n",
       "    </tr>\n",
       "    <tr>\n",
       "      <th>1</th>\n",
       "      <td>31678_45</td>\n",
       "      <td>C#Cc1c(F)ccc2cc(O)cc(-c3ncc4c(NCC5(N(C)C)CCC5)...</td>\n",
       "      <td>NaN</td>\n",
       "      <td>0.4</td>\n",
       "      <td>38.3</td>\n",
       "    </tr>\n",
       "    <tr>\n",
       "      <th>2</th>\n",
       "      <td>US_243</td>\n",
       "      <td>C#Cc1cccc2cc(O)cc(-c3ncc4c(N5CC6CCC(C5)N6)nc(O...</td>\n",
       "      <td>NaN</td>\n",
       "      <td>0.4</td>\n",
       "      <td>0.8</td>\n",
       "    </tr>\n",
       "    <tr>\n",
       "      <th>3</th>\n",
       "      <td>US_340</td>\n",
       "      <td>Oc1ccc(OC(F)(F)F)c(-c2ncc3c(N4CC5CCC(C4)N5)nc(...</td>\n",
       "      <td>NaN</td>\n",
       "      <td>0.4</td>\n",
       "      <td>51.5</td>\n",
       "    </tr>\n",
       "    <tr>\n",
       "      <th>4</th>\n",
       "      <td>US_439</td>\n",
       "      <td>C#Cc1c(F)ccc2cccc(-c3ncc4c(N5CC6CCC(C5)N6)nc(O...</td>\n",
       "      <td>NaN</td>\n",
       "      <td>0.4</td>\n",
       "      <td>12.8</td>\n",
       "    </tr>\n",
       "  </tbody>\n",
       "</table>\n",
       "</div>"
      ],
      "text/plain": [
       "         ID                                             SMILES  Kd  IC50  \\\n",
       "0    US_284  Oc1cc(Cl)c(C(F)(F)F)c(-c2ncc3c(N4CC5CCC(C4)N5)... NaN   0.1   \n",
       "1  31678_45  C#Cc1c(F)ccc2cc(O)cc(-c3ncc4c(NCC5(N(C)C)CCC5)... NaN   0.4   \n",
       "2    US_243  C#Cc1cccc2cc(O)cc(-c3ncc4c(N5CC6CCC(C5)N6)nc(O... NaN   0.4   \n",
       "3    US_340  Oc1ccc(OC(F)(F)F)c(-c2ncc3c(N4CC5CCC(C4)N5)nc(... NaN   0.4   \n",
       "4    US_439  C#Cc1c(F)ccc2cccc(-c3ncc4c(N5CC6CCC(C5)N6)nc(O... NaN   0.4   \n",
       "\n",
       "   erk_IC50  \n",
       "0      17.4  \n",
       "1      38.3  \n",
       "2       0.8  \n",
       "3      51.5  \n",
       "4      12.8  "
      ]
     },
     "execution_count": 6,
     "metadata": {},
     "output_type": "execute_result"
    }
   ],
   "source": [
    "df.head()"
   ]
  },
  {
   "cell_type": "code",
   "execution_count": 7,
   "metadata": {},
   "outputs": [
    {
     "name": "stdout",
     "output_type": "stream",
     "text": [
      "before processing: (1410, 5)\n",
      "after processing: (1410, 5)\n"
     ]
    }
   ],
   "source": [
    "df = preprocess_smi_df(df,'SMILES')"
   ]
  },
  {
   "cell_type": "code",
   "execution_count": 13,
   "metadata": {},
   "outputs": [],
   "source": [
    "train = df[['SMILES','IC50']].dropna()"
   ]
  },
  {
   "cell_type": "code",
   "execution_count": 14,
   "metadata": {},
   "outputs": [],
   "source": [
    "train.to_csv('train.csv', index=False)"
   ]
  },
  {
   "cell_type": "markdown",
   "metadata": {
    "id": "w2RyJxQVLBYJ"
   },
   "source": [
    "## Function & Use"
   ]
  },
  {
   "cell_type": "code",
   "execution_count": 60,
   "metadata": {
    "id": "AEGAsVKdBMfq"
   },
   "outputs": [],
   "source": [
    "#| export\n",
    "def train_file(train_file: str, # filename\n",
    "               valid_file:str,\n",
    "               test_file:str,\n",
    "               task: str, # \"regression\" or \"classification\"\n",
    "               ckp_folder: str = 'ckp', # checkpoint folder name\n",
    "               epochs: int=30, # default for chemprop is 30\n",
    "               seed: int = 0\n",
    "               ):\n",
    "    \"Use Chemprop to train a file with first column as smiles, and the rest columns as target, with header row\"\n",
    "    \n",
    "    assert task in [\"regression\",\"classification\"], \"task must be either 'regression' or 'classification'\"\n",
    "    \n",
    "    arguments = [\n",
    "    '--data_path', train_file,\n",
    "    '--dataset_type', task,\n",
    "    '--save_dir', ckp_folder,\n",
    "    '--epochs', str(epochs),\n",
    "    '--seed', str(seed),\n",
    "    '--save_smiles_splits',\n",
    "    '--quiet', #  quiet\n",
    "\n",
    "    # extra metrics for classification\n",
    "    # '--extra_metrics', 'prc-auc',\n",
    "\n",
    "    # for splitting\n",
    "    '--split_type', 'scaffold_balanced',\n",
    "\n",
    "\n",
    "    # if customize split, need to indicate valid and test file\n",
    "    # '--separate_val_path', valid_file,\n",
    "    # '--separate_test_path', test_file,\n",
    "\n",
    "\n",
    "    # for generating RDKit features, comment out if not needed\n",
    "    # '--features_generator', 'rdkit_2d_normalized',\n",
    "    # '--no_features_scaling'\n",
    "\n",
    "    # alternatively, generate features in advance\n",
    "    # '--features_path', <csv/npy file>, '--no_features_scaling'\n",
    "\n",
    "    # if hyperopt before\n",
    "    # '--config_path', <config path>\n",
    "    ]\n",
    "\n",
    "    args = chemprop.args.TrainArgs().parse_args(arguments)\n",
    "    mean_score, std_score = chemprop.train.cross_validate(args=args, train_func=chemprop.train.run_training)\n",
    "\n",
    "    return mean_score,std_score"
   ]
  },
  {
   "cell_type": "code",
   "execution_count": 61,
   "metadata": {
    "id": "BbAAIR15DfK9"
   },
   "outputs": [],
   "source": [
    "# To optimize model parameter, to use it in training, add it to --config_path in training\n",
    "# !chemprop_hyperopt --data_path <input_file.csv> --dataset_type <reg./class.> --num_iters <10> --config_save_path <folder>"
   ]
  },
  {
   "cell_type": "code",
   "execution_count": 63,
   "metadata": {
    "colab": {
     "base_uri": "https://localhost:8080/"
    },
    "collapsed": true,
    "id": "JsQaRO9koo7v",
    "jupyter": {
     "outputs_hidden": true
    },
    "outputId": "35a6d7e9-1918-42c4-8cbd-a498fa52ff41",
    "tags": []
   },
   "outputs": [
    {
     "name": "stderr",
     "output_type": "stream",
     "text": [
      "1364it [00:00, 210208.36it/s]\n",
      "100%|██████████| 1364/1364 [00:00<00:00, 190377.38it/s]\n",
      "100%|██████████| 1364/1364 [00:00<00:00, 160324.81it/s]\n",
      "Fold 0\n",
      "100%|██████████| 1364/1364 [00:00<00:00, 3243.45it/s]\n",
      "0it [00:00, ?it/s]Warning: Repeated SMILES found in data, pickle file of split indices cannot distinguish entries and will not be generated.\n",
      "175it [00:00, 170460.57it/s]\n",
      "  0%|          | 0/1 [00:00<?, ?it/s]\n",
      "  0%|          | 0/22 [00:00<?, ?it/s]\u001b[A\n",
      " 14%|█▎        | 3/22 [00:00<00:00, 29.35it/s]\u001b[A\n",
      " 27%|██▋       | 6/22 [00:00<00:00, 28.70it/s]\u001b[A\n",
      " 41%|████      | 9/22 [00:00<00:00, 29.07it/s]\u001b[A\n",
      " 55%|█████▍    | 12/22 [00:00<00:00, 28.72it/s]\u001b[A\n",
      " 68%|██████▊   | 15/22 [00:00<00:00, 28.99it/s]\u001b[A\n",
      " 86%|████████▋ | 19/22 [00:00<00:00, 29.37it/s]\u001b[A\n",
      "                                               \u001b[A\n",
      "  0%|          | 0/3 [00:00<?, ?it/s]\u001b[A\n",
      "                                     \u001b[A/usr/local/lib/python3.9/dist-packages/sklearn/metrics/_regression.py:483: FutureWarning: 'squared' is deprecated in version 1.4 and will be removed in 1.6. To calculate the root mean squared error, use the function'root_mean_squared_error'.\n",
      "  warnings.warn(\n",
      "100%|██████████| 1/1 [00:00<00:00,  1.14it/s]\n",
      "Model 0 best validation rmse = 15487.036811 on epoch 0\n",
      "/usr/local/lib/python3.9/dist-packages/sklearn/metrics/_regression.py:483: FutureWarning: 'squared' is deprecated in version 1.4 and will be removed in 1.6. To calculate the root mean squared error, use the function'root_mean_squared_error'.\n",
      "  warnings.warn(\n",
      "Model 0 test rmse = 9394.273589\n",
      "/usr/local/lib/python3.9/dist-packages/sklearn/metrics/_regression.py:483: FutureWarning: 'squared' is deprecated in version 1.4 and will be removed in 1.6. To calculate the root mean squared error, use the function'root_mean_squared_error'.\n",
      "  warnings.warn(\n",
      "Ensemble test rmse = 9394.273589\n",
      "1-fold cross validation\n",
      "\tSeed 0 ==> test rmse = 9394.273589\n",
      "Overall test rmse = 9394.273589 +/- 0.000000\n",
      "Elapsed time = 0:00:02\n"
     ]
    }
   ],
   "source": [
    "#| output: false\n",
    "mean,_ = train_file('train.csv','train.csv','train.csv','regression',epochs=1)"
   ]
  },
  {
   "cell_type": "code",
   "execution_count": 64,
   "metadata": {
    "id": "Lna_2PreFtcL"
   },
   "outputs": [],
   "source": [
    "# To compare with original command\n",
    "# !chemprop_train --data_path 'SAMPL.csv' --dataset_type 'regression' --save_dir 'ckp2' --epochs '10' --separate_val_path 'SAMPL.csv' --separate_test_path 'SAMPL.csv'"
   ]
  },
  {
   "cell_type": "code",
   "execution_count": 69,
   "metadata": {
    "id": "QC_QN7Td8E5e"
   },
   "outputs": [],
   "source": [
    "#| export\n",
    "def predict_file(input_file:str, # filename, with first column as smiles\n",
    "                 ckp_folder: str = 'ckp', # checkpoint folder name\n",
    "                 return_df=True\n",
    "                 ):\n",
    "\n",
    "    \"Load trained models and make predictions on csv file that contains SMILES in the first column\"\n",
    "    arguments = [\n",
    "    '--test_path', input_file,\n",
    "    '--preds_path', '/dev/null',\n",
    "    '--checkpoint_dir', ckp_folder,\n",
    "\n",
    "    # for generating RDKit features, comment out if not needed\n",
    "    # '--features_generator', 'rdkit_2d_normalized', # for generating RDKit features\n",
    "    # '--no_features_scaling',\n",
    "\n",
    "    ]\n",
    "\n",
    "    args = chemprop.args.PredictArgs().parse_args(arguments)\n",
    "    preds = chemprop.train.make_predictions(args=args)\n",
    "\n",
    "    preds = np.array(preds).squeeze()\n",
    "\n",
    "    if return_df:\n",
    "        preds = pd.DataFrame(preds)\n",
    "        preds.columns = 'pred_'+preds.columns.astype(str)\n",
    "        df = pd.read_csv(input_file)\n",
    "        df = pd.concat([df,preds],axis=1)\n",
    "        return df\n",
    "\n",
    "    else:\n",
    "        return preds"
   ]
  },
  {
   "cell_type": "code",
   "execution_count": 70,
   "metadata": {
    "colab": {
     "base_uri": "https://localhost:8080/"
    },
    "collapsed": true,
    "id": "ZnrP_y_oJdCD",
    "jupyter": {
     "outputs_hidden": true
    },
    "outputId": "eb08d831-8ed1-4065-b21c-c9d5113f4bc0",
    "tags": []
   },
   "outputs": [
    {
     "name": "stdout",
     "output_type": "stream",
     "text": [
      "Loading training args\n",
      "Setting molecule featurization parameters to default.\n",
      "Loading data\n"
     ]
    },
    {
     "name": "stderr",
     "output_type": "stream",
     "text": [
      "137it [00:00, 127297.22it/s]\n",
      "100%|██████████| 137/137 [00:00<00:00, 96884.11it/s]\n"
     ]
    },
    {
     "name": "stdout",
     "output_type": "stream",
     "text": [
      "Validating SMILES\n",
      "Test size = 137\n"
     ]
    },
    {
     "name": "stderr",
     "output_type": "stream",
     "text": [
      "  0%|          | 0/1 [00:00<?, ?it/s]"
     ]
    },
    {
     "name": "stdout",
     "output_type": "stream",
     "text": [
      "Loading pretrained parameter \"encoder.encoder.0.cached_zero_vector\".\n",
      "Loading pretrained parameter \"encoder.encoder.0.W_i.weight\".\n",
      "Loading pretrained parameter \"encoder.encoder.0.W_h.weight\".\n",
      "Loading pretrained parameter \"encoder.encoder.0.W_o.weight\".\n",
      "Loading pretrained parameter \"encoder.encoder.0.W_o.bias\".\n",
      "Loading pretrained parameter \"readout.1.weight\".\n",
      "Loading pretrained parameter \"readout.1.bias\".\n",
      "Loading pretrained parameter \"readout.4.weight\".\n",
      "Loading pretrained parameter \"readout.4.bias\".\n",
      "Moving model to cuda\n"
     ]
    },
    {
     "name": "stderr",
     "output_type": "stream",
     "text": [
      "\n",
      "  0%|          | 0/3 [00:00<?, ?it/s]\u001b[A\n",
      " 33%|███▎      | 1/3 [00:00<00:01,  1.89it/s]\u001b[A\n",
      "100%|██████████| 1/1 [00:00<00:00,  1.20it/s]\u001b[A"
     ]
    },
    {
     "name": "stdout",
     "output_type": "stream",
     "text": [
      "Saving predictions to /dev/null\n",
      "Elapsed time = 0:00:01\n"
     ]
    },
    {
     "name": "stderr",
     "output_type": "stream",
     "text": [
      "\n"
     ]
    }
   ],
   "source": [
    "out = predict_file('ckp/fold_0/test_full.csv')"
   ]
  },
  {
   "cell_type": "code",
   "execution_count": 71,
   "metadata": {},
   "outputs": [],
   "source": [
    "out = out.rename(columns={'pred_0':'pred'})"
   ]
  },
  {
   "cell_type": "code",
   "execution_count": 72,
   "metadata": {},
   "outputs": [],
   "source": [
    "out2 = out.set_index('SMILES').map(lambda x: np.log10(x))"
   ]
  },
  {
   "cell_type": "code",
   "execution_count": 73,
   "metadata": {},
   "outputs": [
    {
     "data": {
      "image/png": "[encoded data removed]",
      "text/plain": [
       "<Figure size 432x288 with 1 Axes>"
      ]
     },
     "metadata": {
      "needs_background": "light"
     },
     "output_type": "display_data"
    }
   ],
   "source": [
    "out2.plot.scatter('IC50','pred');"
   ]
  },
  {
   "cell_type": "code",
   "execution_count": 74,
   "metadata": {
    "id": "QOmA3wNKQXET"
   },
   "outputs": [],
   "source": [
    "df= out.copy()"
   ]
  },
  {
   "cell_type": "code",
   "execution_count": 80,
   "metadata": {
    "id": "BNUy2KN-8Mej"
   },
   "outputs": [],
   "source": [
    "#| export\n",
    "def predict_smiles(smiles: list,  # need to in format: [['CCC'], ['CCCC'], ['OCC']]\n",
    "                   ckp_folder: str='ckp', # checkpoint folder name\n",
    "                   ):\n",
    "\n",
    "    \"Load trained models and make predictions on list of SMILES\"\n",
    "\n",
    "    arguments = [\n",
    "      '--test_path', '/dev/null',\n",
    "      '--preds_path', '/dev/null',\n",
    "      '--checkpoint_dir', ckp_folder,\n",
    "\n",
    "      # for generating RDKit features\n",
    "      # '--features_generator', 'rdkit_2d_normalized',\n",
    "      # '--no_features_scaling'\n",
    "\n",
    "      ]\n",
    "\n",
    "    args = chemprop.args.PredictArgs().parse_args(arguments)\n",
    "    model_objects = chemprop.train.load_model(args=args)\n",
    "\n",
    "    preds = chemprop.train.make_predictions(args=args, smiles=smiles, model_objects=model_objects)\n",
    "\n",
    "    return preds"
   ]
  },
  {
   "cell_type": "code",
   "execution_count": 76,
   "metadata": {
    "id": "_UCeVS-IsD2Y"
   },
   "outputs": [],
   "source": [
    "smi_list = []\n",
    "for s in df.SMILES:\n",
    "    smi_list.append([preprocess_smiles(s)])"
   ]
  },
  {
   "cell_type": "code",
   "execution_count": 77,
   "metadata": {
    "colab": {
     "base_uri": "https://localhost:8080/"
    },
    "collapsed": true,
    "id": "pVsaPVdxKGKl",
    "jupyter": {
     "outputs_hidden": true
    },
    "outputId": "2158ac3d-e185-4873-c69a-a934529d1f1b",
    "tags": []
   },
   "outputs": [
    {
     "name": "stdout",
     "output_type": "stream",
     "text": [
      "Loading training args\n",
      "Loading pretrained parameter \"encoder.encoder.0.cached_zero_vector\".\n",
      "Loading pretrained parameter \"encoder.encoder.0.W_i.weight\".\n",
      "Loading pretrained parameter \"encoder.encoder.0.W_h.weight\".\n",
      "Loading pretrained parameter \"encoder.encoder.0.W_o.weight\".\n",
      "Loading pretrained parameter \"encoder.encoder.0.W_o.bias\".\n",
      "Loading pretrained parameter \"readout.1.weight\".\n",
      "Loading pretrained parameter \"readout.1.bias\".\n",
      "Loading pretrained parameter \"readout.4.weight\".\n",
      "Loading pretrained parameter \"readout.4.bias\".\n",
      "Moving model to cuda\n",
      "Setting molecule featurization parameters to default.\n",
      "Loading data\n",
      "Validating SMILES\n",
      "Test size = 137\n"
     ]
    },
    {
     "name": "stderr",
     "output_type": "stream",
     "text": [
      "  0%|          | 0/1 [00:00<?, ?it/s]\n",
      "  0%|          | 0/3 [00:00<?, ?it/s]\u001b[A\n",
      " 33%|███▎      | 1/3 [00:00<00:01,  1.75it/s]\u001b[A\n",
      "100%|██████████| 1/1 [00:00<00:00,  1.37it/s]\u001b[A"
     ]
    },
    {
     "name": "stdout",
     "output_type": "stream",
     "text": [
      "Saving predictions to /dev/null\n",
      "Elapsed time = 0:00:01\n"
     ]
    },
    {
     "name": "stderr",
     "output_type": "stream",
     "text": [
      "\n"
     ]
    }
   ],
   "source": [
    "pred2 = predict_smiles(smi_list)"
   ]
  },
  {
   "cell_type": "code",
   "execution_count": 78,
   "metadata": {},
   "outputs": [],
   "source": [
    "df['pred2'] = np.array(pred2).squeeze()"
   ]
  },
  {
   "cell_type": "code",
   "execution_count": 79,
   "metadata": {},
   "outputs": [
    {
     "data": {
      "text/html": [
       "<div>\n",
       "<style scoped>\n",
       "    .dataframe tbody tr th:only-of-type {\n",
       "        vertical-align: middle;\n",
       "    }\n",
       "\n",
       "    .dataframe tbody tr th {\n",
       "        vertical-align: top;\n",
       "    }\n",
       "\n",
       "    .dataframe thead th {\n",
       "        text-align: right;\n",
       "    }\n",
       "</style>\n",
       "<table border=\"1\" class=\"dataframe\">\n",
       "  <thead>\n",
       "    <tr style=\"text-align: right;\">\n",
       "      <th></th>\n",
       "      <th>SMILES</th>\n",
       "      <th>IC50</th>\n",
       "      <th>pred</th>\n",
       "      <th>pred2</th>\n",
       "    </tr>\n",
       "  </thead>\n",
       "  <tbody>\n",
       "    <tr>\n",
       "      <th>0</th>\n",
       "      <td>C#Cc1c(F)ccc2cc(O)cc(-c3ncc4c(NCC5(N(C)C)CCC5)...</td>\n",
       "      <td>0.4</td>\n",
       "      <td>1976.685427</td>\n",
       "      <td>1976.685427</td>\n",
       "    </tr>\n",
       "    <tr>\n",
       "      <th>1</th>\n",
       "      <td>CCc1cccc2cccc(-c3ncc4c(NCC5(N(C)C)CCC5)nc(OC[C...</td>\n",
       "      <td>59.2</td>\n",
       "      <td>2629.022829</td>\n",
       "      <td>2629.022829</td>\n",
       "    </tr>\n",
       "    <tr>\n",
       "      <th>2</th>\n",
       "      <td>NC1(CNc2nc(OC[C@@]34CCCN3C[C@H](F)C4)nc3c(F)c(...</td>\n",
       "      <td>62.8</td>\n",
       "      <td>3049.582755</td>\n",
       "      <td>3049.582755</td>\n",
       "    </tr>\n",
       "    <tr>\n",
       "      <th>3</th>\n",
       "      <td>C#Cc1cccc2cc(O)cc(-c3ncc4c(NCC5(N(C)C)CCC5)nc(...</td>\n",
       "      <td>0.6</td>\n",
       "      <td>2477.608778</td>\n",
       "      <td>2477.608778</td>\n",
       "    </tr>\n",
       "    <tr>\n",
       "      <th>4</th>\n",
       "      <td>CN(C)C1(CNc2nc(OC[C@@]34CCCN3C[C@H](F)C4)nc3c(...</td>\n",
       "      <td>582.9</td>\n",
       "      <td>2743.045784</td>\n",
       "      <td>2743.045784</td>\n",
       "    </tr>\n",
       "    <tr>\n",
       "      <th>...</th>\n",
       "      <td>...</td>\n",
       "      <td>...</td>\n",
       "      <td>...</td>\n",
       "      <td>...</td>\n",
       "    </tr>\n",
       "    <tr>\n",
       "      <th>132</th>\n",
       "      <td>CN1CCC[C@H]1COc1nc(N2CC3CCC2CN3)c2cnc(-c3cc(O)...</td>\n",
       "      <td>49.4</td>\n",
       "      <td>3393.805075</td>\n",
       "      <td>3393.805075</td>\n",
       "    </tr>\n",
       "    <tr>\n",
       "      <th>133</th>\n",
       "      <td>NC1CC(Nc2nc(OCC34CCCN3CCC4)nc3c(F)c(-c4cccc5cc...</td>\n",
       "      <td>202.7</td>\n",
       "      <td>3324.763734</td>\n",
       "      <td>3324.763734</td>\n",
       "    </tr>\n",
       "    <tr>\n",
       "      <th>134</th>\n",
       "      <td>CN1CC[C@H](COc2nc(N3CC4CCC(C3)N4)c3cnc(-c4cccc...</td>\n",
       "      <td>262.6</td>\n",
       "      <td>3343.646612</td>\n",
       "      <td>3343.646612</td>\n",
       "    </tr>\n",
       "    <tr>\n",
       "      <th>135</th>\n",
       "      <td>CCc1c(F)ccc2cc(O)cc(-c3ncc4c(NCC5CCNC5=O)nc(OC...</td>\n",
       "      <td>4.0</td>\n",
       "      <td>2791.125239</td>\n",
       "      <td>2791.125239</td>\n",
       "    </tr>\n",
       "    <tr>\n",
       "      <th>136</th>\n",
       "      <td>CCc1c(F)ccc2cc(O)cc(-c3ncc4c(N5CCC[C@@](C)(O)C...</td>\n",
       "      <td>2.0</td>\n",
       "      <td>2612.447517</td>\n",
       "      <td>2612.447517</td>\n",
       "    </tr>\n",
       "  </tbody>\n",
       "</table>\n",
       "<p>137 rows × 4 columns</p>\n",
       "</div>"
      ],
      "text/plain": [
       "                                                SMILES   IC50         pred  \\\n",
       "0    C#Cc1c(F)ccc2cc(O)cc(-c3ncc4c(NCC5(N(C)C)CCC5)...    0.4  1976.685427   \n",
       "1    CCc1cccc2cccc(-c3ncc4c(NCC5(N(C)C)CCC5)nc(OC[C...   59.2  2629.022829   \n",
       "2    NC1(CNc2nc(OC[C@@]34CCCN3C[C@H](F)C4)nc3c(F)c(...   62.8  3049.582755   \n",
       "3    C#Cc1cccc2cc(O)cc(-c3ncc4c(NCC5(N(C)C)CCC5)nc(...    0.6  2477.608778   \n",
       "4    CN(C)C1(CNc2nc(OC[C@@]34CCCN3C[C@H](F)C4)nc3c(...  582.9  2743.045784   \n",
       "..                                                 ...    ...          ...   \n",
       "132  CN1CCC[C@H]1COc1nc(N2CC3CCC2CN3)c2cnc(-c3cc(O)...   49.4  3393.805075   \n",
       "133  NC1CC(Nc2nc(OCC34CCCN3CCC4)nc3c(F)c(-c4cccc5cc...  202.7  3324.763734   \n",
       "134  CN1CC[C@H](COc2nc(N3CC4CCC(C3)N4)c3cnc(-c4cccc...  262.6  3343.646612   \n",
       "135  CCc1c(F)ccc2cc(O)cc(-c3ncc4c(NCC5CCNC5=O)nc(OC...    4.0  2791.125239   \n",
       "136  CCc1c(F)ccc2cc(O)cc(-c3ncc4c(N5CCC[C@@](C)(O)C...    2.0  2612.447517   \n",
       "\n",
       "           pred2  \n",
       "0    1976.685427  \n",
       "1    2629.022829  \n",
       "2    3049.582755  \n",
       "3    2477.608778  \n",
       "4    2743.045784  \n",
       "..           ...  \n",
       "132  3393.805075  \n",
       "133  3324.763734  \n",
       "134  3343.646612  \n",
       "135  2791.125239  \n",
       "136  2612.447517  \n",
       "\n",
       "[137 rows x 4 columns]"
      ]
     },
     "execution_count": 79,
     "metadata": {},
     "output_type": "execute_result"
    }
   ],
   "source": [
    "df"
   ]
  },
  {
   "cell_type": "markdown",
   "metadata": {},
   "source": [
    "We got the same results as pred"
   ]
  },
  {
   "cell_type": "markdown",
   "metadata": {
    "id": "lWvOcGAXDMsc"
   },
   "source": [
    "## Model interpretation"
   ]
  },
  {
   "cell_type": "code",
   "execution_count": 8,
   "metadata": {
    "id": "FnjIReNzC4mV"
   },
   "outputs": [],
   "source": [
    "# property_id is the number of property in a csv; 1 means the first target property in the df\n",
    "# !chemprop_interpret --data_path <csv file name> --checkpoint_dir <tox21_checkpoints/fold_0/> --property_id 1"
   ]
  },
  {
   "cell_type": "code",
   "execution_count": 9,
   "metadata": {
    "id": "pCv6g_liDEK7"
   },
   "outputs": [],
   "source": [
    "# Train\n",
    "# !chemprop_train --data_path <path> --dataset_type <classifcation/regression> --save_dir <ckp_folder>"
   ]
  },
  {
   "cell_type": "code",
   "execution_count": 86,
   "metadata": {},
   "outputs": [],
   "source": [
    "#| hide\n",
    "import nbdev; nbdev.nbdev_export()"
   ]
  },
  {
   "cell_type": "code",
   "execution_count": null,
   "metadata": {},
   "outputs": [],
   "source": []
  }
 ],
 "metadata": {
  "accelerator": "GPU",
  "colab": {
   "collapsed_sections": [
    "lWvOcGAXDMsc",
    "MQ67V6hr_6Yz",
    "WZktZ7DsAAMn",
    "GE9Tof7UK8cI",
    "54x-eGwxLEZ1",
    "ra4xqKLHqj4x",
    "WNacITwVqj4x",
    "0kinNKidqj4y"
   ],
   "gpuType": "T4",
   "provenance": []
  },
  "kernelspec": {
   "display_name": "Python 3 (ipykernel)",
   "language": "python",
   "name": "python3"
  },
  "language_info": {
   "codemirror_mode": {
    "name": "ipython",
    "version": 3
   },
   "file_extension": ".py",
   "mimetype": "text/x-python",
   "name": "python",
   "nbconvert_exporter": "python",
   "pygments_lexer": "ipython3",
   "version": "3.9.13"
  }
 },
 "nbformat": 4,
 "nbformat_minor": 4
}
