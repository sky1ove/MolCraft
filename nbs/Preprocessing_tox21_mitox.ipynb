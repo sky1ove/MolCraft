{
  "nbformat": 4,
  "nbformat_minor": 0,
  "metadata": {
    "colab": {
      "provenance": []
    },
    "kernelspec": {
      "name": "python3",
      "display_name": "Python 3"
    },
    "language_info": {
      "name": "python"
    }
  },
  "cells": [
    {
      "cell_type": "markdown",
      "source": [
        "# Tox21 mitochondria dataset"
      ],
      "metadata": {
        "id": "0Fx2d4Qttu4F"
      }
    },
    {
      "cell_type": "markdown",
      "source": [
        "## Data Download"
      ],
      "metadata": {
        "id": "hx5lvswNuCc5"
      }
    },
    {
      "cell_type": "markdown",
      "source": [
        "The Tox21 mitochondria dataset was downloaded from [tripod NIH Tox21 - tox21-mitotox-p1](https://tripod.nih.gov//tox21/pubdata/). Specifically, the zip file was downloaded and files were extracted. We used `tox21-mitotox-p1.aggregrated.txt` file to make the dataset.\n",
        "\n",
        "According to its original paper, [Profiling of the Tox21 Chemical Collection for Mitochondrial Function to Identify Compounds that Acutely Decrease Mitochondrial Membrane Potential](https://www.ncbi.nlm.nih.gov/pmc/articles/PMC4286281/), we will use `ASSAY_OUTCOME` column as target instead of `CHANNEL_OUTCOME` column in the file, as it is the final MMP activity outcome based on its multi-channel readout (ratio, rhodamine, FITC, and cell viability).\n",
        "\n",
        "The MMP experiment was done in HepG2 cell line, which is human hepatoma (liver cells) that is commonly used in drug hepatotoxicity studies."
      ],
      "metadata": {
        "id": "dVQVr1kFuErd"
      }
    },
    {
      "cell_type": "markdown",
      "source": [
        "## Setup"
      ],
      "metadata": {
        "id": "Hqss8CFlzDzk"
      }
    },
    {
      "cell_type": "code",
      "source": [
        "!pip install rdkit -qq"
      ],
      "metadata": {
        "colab": {
          "base_uri": "https://localhost:8080/"
        },
        "id": "FlpzhpAjzVOz",
        "outputId": "3836ca56-2de7-4934-d4a9-9c4d5eb3f1c6"
      },
      "execution_count": null,
      "outputs": [
        {
          "output_type": "stream",
          "name": "stdout",
          "text": [
            "\u001b[2K     \u001b[90m━━━━━━━━━━━━━━━━━━━━━━━━━━━━━━━━━━━━━━━━\u001b[0m \u001b[32m34.4/34.4 MB\u001b[0m \u001b[31m30.9 MB/s\u001b[0m eta \u001b[36m0:00:00\u001b[0m\n",
            "\u001b[?25h"
          ]
        }
      ]
    },
    {
      "cell_type": "code",
      "source": [
        "import pandas as pd\n",
        "\n",
        "from rdkit import Chem\n",
        "from rdkit.Chem import SaltRemover, MolStandardize"
      ],
      "metadata": {
        "id": "8dcc80ePzFwx"
      },
      "execution_count": null,
      "outputs": []
    },
    {
      "cell_type": "code",
      "source": [
        "def preprocess_smiles(smiles):\n",
        "    try:\n",
        "        # Convert to a molecule object\n",
        "        mol = Chem.MolFromSmiles(smiles)\n",
        "        if not mol:\n",
        "            return None\n",
        "\n",
        "        # Standardization, get largest fragment\n",
        "        lfc = MolStandardize.fragment.LargestFragmentChooser()\n",
        "        mol = lfc.choose(mol)\n",
        "\n",
        "        # Normalize\n",
        "        norm = MolStandardize.normalize.Normalizer()\n",
        "        mol = norm.normalize(mol)\n",
        "\n",
        "        # # Desalt, duplicates with largest fragment\n",
        "        # remover = SaltRemover.SaltRemover()\n",
        "        # mol = remover.StripMol(mol, dontRemoveEverything=True)\n",
        "\n",
        "        # Neutralization\n",
        "        uncharger = MolStandardize.charge.Uncharger()\n",
        "        mol = uncharger.uncharge(mol)\n",
        "\n",
        "        # Convert back to SMILES\n",
        "        standardized_smiles = Chem.MolToSmiles(mol, isomericSmiles=True)\n",
        "        return standardized_smiles\n",
        "    except Exception as e:\n",
        "        print(f\"An error occurred for SMILES {smiles}: {e}\")\n",
        "        return None"
      ],
      "metadata": {
        "id": "_pbXDlBn8WxB"
      },
      "execution_count": null,
      "outputs": []
    },
    {
      "cell_type": "markdown",
      "source": [
        "## Data Process"
      ],
      "metadata": {
        "id": "SFv3VbAbvxC6"
      }
    },
    {
      "cell_type": "code",
      "source": [
        "df = pd.read_csv('tox21-mitotox-p1_aggregrated.csv')"
      ],
      "metadata": {
        "id": "FFcWg0wRwDN_"
      },
      "execution_count": null,
      "outputs": []
    },
    {
      "cell_type": "code",
      "source": [
        "# remove salt and keep the large fragment of the smiles\n",
        "smi = pd.DataFrame(df.SMILES.drop_duplicates()) # as there are many duplicated smiles, it's better to remove them\n",
        "smi['smiles'] = smi.SMILES.apply(preprocess_smiles)\n",
        "\n",
        "df = df.merge(smi) # merge the converted smiles to the original dataframe\n",
        "df = df.dropna(subset='smiles').reset_index(drop=True)"
      ],
      "metadata": {
        "id": "_PX4qX9t1SiB"
      },
      "execution_count": null,
      "outputs": []
    },
    {
      "cell_type": "code",
      "source": [
        "def get_unique(x): return x.unique()"
      ],
      "metadata": {
        "id": "raxTuTelri8W"
      },
      "execution_count": null,
      "outputs": []
    },
    {
      "cell_type": "code",
      "source": [
        "# groupby smiles, as compared with SAMPLE_NAME, and TOX21_ID, it has less duplicates\n",
        "dd = df.groupby('smiles').agg({'SAMPLE_NAME':get_unique,\n",
        "                           'TOX21_ID':get_unique,\n",
        "                           'ASSAY_OUTCOME': get_unique,\n",
        "                           'CHANNEL_OUTCOME':get_unique })"
      ],
      "metadata": {
        "id": "NoDGMlr8037w"
      },
      "execution_count": null,
      "outputs": []
    },
    {
      "cell_type": "code",
      "source": [
        "dd['TOX21_ID_len'] = dd.TOX21_ID.apply(len)\n",
        "dd['ASSAY_OUTCOME_len'] = dd.ASSAY_OUTCOME.apply(len)\n",
        "dd['CHANNEL_OUTCOME_len'] = dd.CHANNEL_OUTCOME.apply(len)\n",
        "dd['SAMPLE_NAME_len'] = dd.SAMPLE_NAME.apply(len)"
      ],
      "metadata": {
        "id": "L_0iHg6mqHPe"
      },
      "execution_count": null,
      "outputs": []
    },
    {
      "cell_type": "code",
      "source": [
        "dd.ASSAY_OUTCOME_len.value_counts()"
      ],
      "metadata": {
        "colab": {
          "base_uri": "https://localhost:8080/"
        },
        "id": "IqNGP4Hx_VW4",
        "outputId": "d2dc8eba-0764-464e-f08e-9247dd7ec16d"
      },
      "execution_count": null,
      "outputs": [
        {
          "output_type": "execute_result",
          "data": {
            "text/plain": [
              "1    6808\n",
              "2     583\n",
              "3      50\n",
              "4       4\n",
              "5       1\n",
              "Name: ASSAY_OUTCOME_len, dtype: int64"
            ]
          },
          "metadata": {},
          "execution_count": 197
        }
      ]
    },
    {
      "cell_type": "code",
      "source": [
        "# remove compounds that has ASSAY_OUTCOME_len more than 1\n",
        "d = dd.query('ASSAY_OUTCOME_len == 1').copy()"
      ],
      "metadata": {
        "id": "O6Vf2a00tAgC"
      },
      "execution_count": null,
      "outputs": []
    },
    {
      "cell_type": "code",
      "source": [
        "d.ASSAY_OUTCOME.str[0].value_counts()"
      ],
      "metadata": {
        "colab": {
          "base_uri": "https://localhost:8080/"
        },
        "id": "ipu0u0Z79nSm",
        "outputId": "7d733cf9-0e68-4d1a-a8a6-4dc0fed2718d"
      },
      "execution_count": null,
      "outputs": [
        {
          "output_type": "execute_result",
          "data": {
            "text/plain": [
              "inactive                               4626\n",
              "active antagonist                       750\n",
              "inconclusive                            603\n",
              "inconclusive agonist                    245\n",
              "active agonist                          207\n",
              "inconclusive antagonist (cytotoxic)     198\n",
              "inconclusive antagonist                 174\n",
              "inconclusive agonist (cytotoxic)          5\n",
              "Name: ASSAY_OUTCOME, dtype: int64"
            ]
          },
          "metadata": {},
          "execution_count": 199
        }
      ]
    },
    {
      "cell_type": "code",
      "source": [
        "d['ASSAY_OUTCOME'] = d['ASSAY_OUTCOME'].str[0]"
      ],
      "metadata": {
        "id": "KqaOFLwnp5Fs"
      },
      "execution_count": null,
      "outputs": []
    },
    {
      "cell_type": "code",
      "source": [
        "d = d.rename(columns={'smiles':'SMILES'})"
      ],
      "metadata": {
        "id": "hvO0377FB2H7"
      },
      "execution_count": null,
      "outputs": []
    },
    {
      "cell_type": "code",
      "source": [
        "ds = d.reset_index()[['SMILES','SAMPLE_NAME','TOX21_ID','ASSAY_OUTCOME','TOX21_ID_len','SAMPLE_NAME_len']]"
      ],
      "metadata": {
        "id": "kFeDBxoawmgP"
      },
      "execution_count": null,
      "outputs": []
    },
    {
      "cell_type": "code",
      "source": [
        "ds.sort_values('SAMPLE_NAME_len').tail(1).SAMPLE_NAME.values # these chemicals have same smiles (large fragment)"
      ],
      "metadata": {
        "colab": {
          "base_uri": "https://localhost:8080/"
        },
        "id": "HNRlpT_Tw1CS",
        "outputId": "575653a7-16df-410e-df97-bf220e92a256"
      },
      "execution_count": null,
      "outputs": [
        {
          "output_type": "execute_result",
          "data": {
            "text/plain": [
              "array([array(['1-Butylpyridinium hexafluorophosphate',\n",
              "              '1-Butylpyridinium bromide', '1-Butylpyridinium iodide',\n",
              "              '1-Butylpyridinium tetrafluoroborate',\n",
              "              '1-Butylpyridinium trifluoromethanesulfonate',\n",
              "              'N-Butylpyridinium chloride'], dtype=object)            ],\n",
              "      dtype=object)"
            ]
          },
          "metadata": {},
          "execution_count": 202
        }
      ]
    },
    {
      "cell_type": "code",
      "source": [
        "ds.to_parquet('tox21_MMP.parquet')"
      ],
      "metadata": {
        "id": "j6AS7dWE6BIv"
      },
      "execution_count": null,
      "outputs": []
    },
    {
      "cell_type": "markdown",
      "source": [
        "## To use"
      ],
      "metadata": {
        "id": "dEXnDW23yRjS"
      }
    },
    {
      "cell_type": "code",
      "source": [
        "ds.ASSAY_OUTCOME.value_counts()"
      ],
      "metadata": {
        "colab": {
          "base_uri": "https://localhost:8080/"
        },
        "id": "62pDTQG5xKG6",
        "outputId": "38ee6895-e9a7-48d9-b2a9-b9c008d831a3"
      },
      "execution_count": null,
      "outputs": [
        {
          "output_type": "execute_result",
          "data": {
            "text/plain": [
              "inactive                               4626\n",
              "active antagonist                       750\n",
              "inconclusive                            603\n",
              "inconclusive agonist                    245\n",
              "active agonist                          207\n",
              "inconclusive antagonist (cytotoxic)     198\n",
              "inconclusive antagonist                 174\n",
              "inconclusive agonist (cytotoxic)          5\n",
              "Name: ASSAY_OUTCOME, dtype: int64"
            ]
          },
          "metadata": {},
          "execution_count": 204
        }
      ]
    },
    {
      "cell_type": "markdown",
      "source": [
        "There are different categories of ASSAY_OUTCOME. According to the original paper,\n",
        "- inactive: compounds that do not have any effect on mitochondrial membrane potential (MMP)\n",
        "- active antagonist: compounds that decrease MMP, with the highest reproducibility\n",
        "- active agonist: compounds that increase MMP, with lower reproducibility due to the experiment design (so consider drop these)\n",
        "- inclusive: compounds have inconsistent results across different channel readouts.\n",
        "\n",
        "For inclucsive antagonist/agonist, the paper did not explicit them very clearly, but it is possible that these compounds were shown to decrease/increase MMP, but has reverse effect on cell viability. They also have relative lower reproducibility.\n",
        "\n",
        "To get a clear mitochondrial toxicity dataset, one can only keep `inactive` and `active antagonist`, and optionally, consider about taking `inconcusive antagonist` and `inconclusive antagonist (cytotoxic)`"
      ],
      "metadata": {
        "id": "qNoqW8BcyWhB"
      }
    },
    {
      "cell_type": "code",
      "source": [
        "# get all antagonist, regardless of inconclusive\n",
        "anta_idx = ds.ASSAY_OUTCOME.str.contains('antagonist')\n",
        "inact_idx = ds.ASSAY_OUTCOME.str.contains('inactive')\n",
        "comb = anta_idx|inact_idx"
      ],
      "metadata": {
        "id": "YWUQJ1jv0KHz"
      },
      "execution_count": null,
      "outputs": []
    },
    {
      "cell_type": "code",
      "source": [
        "final = ds.loc[comb].copy().reset_index(drop=True)"
      ],
      "metadata": {
        "id": "pg8U40OwyU9I"
      },
      "execution_count": null,
      "outputs": []
    },
    {
      "cell_type": "code",
      "source": [
        "final.ASSAY_OUTCOME.value_counts()"
      ],
      "metadata": {
        "colab": {
          "base_uri": "https://localhost:8080/"
        },
        "id": "xsn21kZM0Urn",
        "outputId": "4329898c-42b0-4a4b-cc2e-3c927227d866"
      },
      "execution_count": null,
      "outputs": [
        {
          "output_type": "execute_result",
          "data": {
            "text/plain": [
              "inactive                               4626\n",
              "active antagonist                       750\n",
              "inconclusive antagonist (cytotoxic)     198\n",
              "inconclusive antagonist                 174\n",
              "Name: ASSAY_OUTCOME, dtype: int64"
            ]
          },
          "metadata": {},
          "execution_count": 207
        }
      ]
    },
    {
      "cell_type": "code",
      "source": [
        "final['target'] = final.ASSAY_OUTCOME.apply(lambda x: 0 if x=='inactive' else 1)"
      ],
      "metadata": {
        "id": "iNQcEm971LYP"
      },
      "execution_count": null,
      "outputs": []
    },
    {
      "cell_type": "code",
      "source": [
        "final"
      ],
      "metadata": {
        "colab": {
          "base_uri": "https://localhost:8080/",
          "height": 513
        },
        "id": "j-c4l4DA0n9y",
        "outputId": "bd41d363-6a98-46ac-c90b-469a0872c92d"
      },
      "execution_count": null,
      "outputs": [
        {
          "output_type": "execute_result",
          "data": {
            "text/plain": [
              "                           SMILES                    SAMPLE_NAME  \\\n",
              "0                              Br               [Sodium bromide]   \n",
              "1                       BrC(Br)Br                    [Bromoform]   \n",
              "2              BrC(Br)C(Br)(Br)Br             [Pentabromoethane]   \n",
              "3                  BrC(Br)C(Br)Br     [1,1,2,2-Tetrabromoethane]   \n",
              "4                     BrC/C=C/CBr     [(E)-1,4-Dibromo-2-butene]   \n",
              "...                           ...                            ...   \n",
              "5743      c1cncc([C@@H]2CCCCN2)c1   [L-3-(2'-Piperidyl)pyridine]   \n",
              "5744            c1coc(Cn2cccc2)c1            [1-Furfurylpyrrole]   \n",
              "5745  c1csc(C2(N3CCCCC3)CCCCC2)c1                [Tenocyclidine]   \n",
              "5746           c1csc(SSc2cccs2)c1          [2-Thienyl disulfide]   \n",
              "5747                   c1nc[nH]n1  [1,2,4-Triazole, sodium salt]   \n",
              "\n",
              "            TOX21_ID ASSAY_OUTCOME  TOX21_ID_len  SAMPLE_NAME_len  target  \n",
              "0     [Tox21_301343]      inactive             1                1       0  \n",
              "1     [Tox21_200189]      inactive             1                1       0  \n",
              "2     [Tox21_200571]      inactive             1                1       0  \n",
              "3     [Tox21_200364]      inactive             1                1       0  \n",
              "4     [Tox21_202728]      inactive             1                1       0  \n",
              "...              ...           ...           ...              ...     ...  \n",
              "5743  [Tox21_301952]      inactive             1                1       0  \n",
              "5744  [Tox21_302604]      inactive             1                1       0  \n",
              "5745  [Tox21_111833]      inactive             1                1       0  \n",
              "5746  [Tox21_302478]      inactive             1                1       0  \n",
              "5747  [Tox21_200054]      inactive             1                1       0  \n",
              "\n",
              "[5748 rows x 7 columns]"
            ],
            "text/html": [
              "\n",
              "  <div id=\"df-53f21a30-2440-432f-8cd1-16012437e213\" class=\"colab-df-container\">\n",
              "    <div>\n",
              "<style scoped>\n",
              "    .dataframe tbody tr th:only-of-type {\n",
              "        vertical-align: middle;\n",
              "    }\n",
              "\n",
              "    .dataframe tbody tr th {\n",
              "        vertical-align: top;\n",
              "    }\n",
              "\n",
              "    .dataframe thead th {\n",
              "        text-align: right;\n",
              "    }\n",
              "</style>\n",
              "<table border=\"1\" class=\"dataframe\">\n",
              "  <thead>\n",
              "    <tr style=\"text-align: right;\">\n",
              "      <th></th>\n",
              "      <th>SMILES</th>\n",
              "      <th>SAMPLE_NAME</th>\n",
              "      <th>TOX21_ID</th>\n",
              "      <th>ASSAY_OUTCOME</th>\n",
              "      <th>TOX21_ID_len</th>\n",
              "      <th>SAMPLE_NAME_len</th>\n",
              "      <th>target</th>\n",
              "    </tr>\n",
              "  </thead>\n",
              "  <tbody>\n",
              "    <tr>\n",
              "      <th>0</th>\n",
              "      <td>Br</td>\n",
              "      <td>[Sodium bromide]</td>\n",
              "      <td>[Tox21_301343]</td>\n",
              "      <td>inactive</td>\n",
              "      <td>1</td>\n",
              "      <td>1</td>\n",
              "      <td>0</td>\n",
              "    </tr>\n",
              "    <tr>\n",
              "      <th>1</th>\n",
              "      <td>BrC(Br)Br</td>\n",
              "      <td>[Bromoform]</td>\n",
              "      <td>[Tox21_200189]</td>\n",
              "      <td>inactive</td>\n",
              "      <td>1</td>\n",
              "      <td>1</td>\n",
              "      <td>0</td>\n",
              "    </tr>\n",
              "    <tr>\n",
              "      <th>2</th>\n",
              "      <td>BrC(Br)C(Br)(Br)Br</td>\n",
              "      <td>[Pentabromoethane]</td>\n",
              "      <td>[Tox21_200571]</td>\n",
              "      <td>inactive</td>\n",
              "      <td>1</td>\n",
              "      <td>1</td>\n",
              "      <td>0</td>\n",
              "    </tr>\n",
              "    <tr>\n",
              "      <th>3</th>\n",
              "      <td>BrC(Br)C(Br)Br</td>\n",
              "      <td>[1,1,2,2-Tetrabromoethane]</td>\n",
              "      <td>[Tox21_200364]</td>\n",
              "      <td>inactive</td>\n",
              "      <td>1</td>\n",
              "      <td>1</td>\n",
              "      <td>0</td>\n",
              "    </tr>\n",
              "    <tr>\n",
              "      <th>4</th>\n",
              "      <td>BrC/C=C/CBr</td>\n",
              "      <td>[(E)-1,4-Dibromo-2-butene]</td>\n",
              "      <td>[Tox21_202728]</td>\n",
              "      <td>inactive</td>\n",
              "      <td>1</td>\n",
              "      <td>1</td>\n",
              "      <td>0</td>\n",
              "    </tr>\n",
              "    <tr>\n",
              "      <th>...</th>\n",
              "      <td>...</td>\n",
              "      <td>...</td>\n",
              "      <td>...</td>\n",
              "      <td>...</td>\n",
              "      <td>...</td>\n",
              "      <td>...</td>\n",
              "      <td>...</td>\n",
              "    </tr>\n",
              "    <tr>\n",
              "      <th>5743</th>\n",
              "      <td>c1cncc([C@@H]2CCCCN2)c1</td>\n",
              "      <td>[L-3-(2'-Piperidyl)pyridine]</td>\n",
              "      <td>[Tox21_301952]</td>\n",
              "      <td>inactive</td>\n",
              "      <td>1</td>\n",
              "      <td>1</td>\n",
              "      <td>0</td>\n",
              "    </tr>\n",
              "    <tr>\n",
              "      <th>5744</th>\n",
              "      <td>c1coc(Cn2cccc2)c1</td>\n",
              "      <td>[1-Furfurylpyrrole]</td>\n",
              "      <td>[Tox21_302604]</td>\n",
              "      <td>inactive</td>\n",
              "      <td>1</td>\n",
              "      <td>1</td>\n",
              "      <td>0</td>\n",
              "    </tr>\n",
              "    <tr>\n",
              "      <th>5745</th>\n",
              "      <td>c1csc(C2(N3CCCCC3)CCCCC2)c1</td>\n",
              "      <td>[Tenocyclidine]</td>\n",
              "      <td>[Tox21_111833]</td>\n",
              "      <td>inactive</td>\n",
              "      <td>1</td>\n",
              "      <td>1</td>\n",
              "      <td>0</td>\n",
              "    </tr>\n",
              "    <tr>\n",
              "      <th>5746</th>\n",
              "      <td>c1csc(SSc2cccs2)c1</td>\n",
              "      <td>[2-Thienyl disulfide]</td>\n",
              "      <td>[Tox21_302478]</td>\n",
              "      <td>inactive</td>\n",
              "      <td>1</td>\n",
              "      <td>1</td>\n",
              "      <td>0</td>\n",
              "    </tr>\n",
              "    <tr>\n",
              "      <th>5747</th>\n",
              "      <td>c1nc[nH]n1</td>\n",
              "      <td>[1,2,4-Triazole, sodium salt]</td>\n",
              "      <td>[Tox21_200054]</td>\n",
              "      <td>inactive</td>\n",
              "      <td>1</td>\n",
              "      <td>1</td>\n",
              "      <td>0</td>\n",
              "    </tr>\n",
              "  </tbody>\n",
              "</table>\n",
              "<p>5748 rows × 7 columns</p>\n",
              "</div>\n",
              "    <div class=\"colab-df-buttons\">\n",
              "\n",
              "  <div class=\"colab-df-container\">\n",
              "    <button class=\"colab-df-convert\" onclick=\"convertToInteractive('df-53f21a30-2440-432f-8cd1-16012437e213')\"\n",
              "            title=\"Convert this dataframe to an interactive table.\"\n",
              "            style=\"display:none;\">\n",
              "\n",
              "  <svg xmlns=\"http://www.w3.org/2000/svg\" height=\"24px\" viewBox=\"0 -960 960 960\">\n",
              "    <path d=\"M120-120v-720h720v720H120Zm60-500h600v-160H180v160Zm220 220h160v-160H400v160Zm0 220h160v-160H400v160ZM180-400h160v-160H180v160Zm440 0h160v-160H620v160ZM180-180h160v-160H180v160Zm440 0h160v-160H620v160Z\"/>\n",
              "  </svg>\n",
              "    </button>\n",
              "\n",
              "  <style>\n",
              "    .colab-df-container {\n",
              "      display:flex;\n",
              "      gap: 12px;\n",
              "    }\n",
              "\n",
              "    .colab-df-convert {\n",
              "      background-color: #E8F0FE;\n",
              "      border: none;\n",
              "      border-radius: 50%;\n",
              "      cursor: pointer;\n",
              "      display: none;\n",
              "      fill: #1967D2;\n",
              "      height: 32px;\n",
              "      padding: 0 0 0 0;\n",
              "      width: 32px;\n",
              "    }\n",
              "\n",
              "    .colab-df-convert:hover {\n",
              "      background-color: #E2EBFA;\n",
              "      box-shadow: 0px 1px 2px rgba(60, 64, 67, 0.3), 0px 1px 3px 1px rgba(60, 64, 67, 0.15);\n",
              "      fill: #174EA6;\n",
              "    }\n",
              "\n",
              "    .colab-df-buttons div {\n",
              "      margin-bottom: 4px;\n",
              "    }\n",
              "\n",
              "    [theme=dark] .colab-df-convert {\n",
              "      background-color: #3B4455;\n",
              "      fill: #D2E3FC;\n",
              "    }\n",
              "\n",
              "    [theme=dark] .colab-df-convert:hover {\n",
              "      background-color: #434B5C;\n",
              "      box-shadow: 0px 1px 3px 1px rgba(0, 0, 0, 0.15);\n",
              "      filter: drop-shadow(0px 1px 2px rgba(0, 0, 0, 0.3));\n",
              "      fill: #FFFFFF;\n",
              "    }\n",
              "  </style>\n",
              "\n",
              "    <script>\n",
              "      const buttonEl =\n",
              "        document.querySelector('#df-53f21a30-2440-432f-8cd1-16012437e213 button.colab-df-convert');\n",
              "      buttonEl.style.display =\n",
              "        google.colab.kernel.accessAllowed ? 'block' : 'none';\n",
              "\n",
              "      async function convertToInteractive(key) {\n",
              "        const element = document.querySelector('#df-53f21a30-2440-432f-8cd1-16012437e213');\n",
              "        const dataTable =\n",
              "          await google.colab.kernel.invokeFunction('convertToInteractive',\n",
              "                                                    [key], {});\n",
              "        if (!dataTable) return;\n",
              "\n",
              "        const docLinkHtml = 'Like what you see? Visit the ' +\n",
              "          '<a target=\"_blank\" href=https://colab.research.google.com/notebooks/data_table.ipynb>data table notebook</a>'\n",
              "          + ' to learn more about interactive tables.';\n",
              "        element.innerHTML = '';\n",
              "        dataTable['output_type'] = 'display_data';\n",
              "        await google.colab.output.renderOutput(dataTable, element);\n",
              "        const docLink = document.createElement('div');\n",
              "        docLink.innerHTML = docLinkHtml;\n",
              "        element.appendChild(docLink);\n",
              "      }\n",
              "    </script>\n",
              "  </div>\n",
              "\n",
              "\n",
              "<div id=\"df-669b885f-124a-41d1-9106-6645184c057c\">\n",
              "  <button class=\"colab-df-quickchart\" onclick=\"quickchart('df-669b885f-124a-41d1-9106-6645184c057c')\"\n",
              "            title=\"Suggest charts\"\n",
              "            style=\"display:none;\">\n",
              "\n",
              "<svg xmlns=\"http://www.w3.org/2000/svg\" height=\"24px\"viewBox=\"0 0 24 24\"\n",
              "     width=\"24px\">\n",
              "    <g>\n",
              "        <path d=\"M19 3H5c-1.1 0-2 .9-2 2v14c0 1.1.9 2 2 2h14c1.1 0 2-.9 2-2V5c0-1.1-.9-2-2-2zM9 17H7v-7h2v7zm4 0h-2V7h2v10zm4 0h-2v-4h2v4z\"/>\n",
              "    </g>\n",
              "</svg>\n",
              "  </button>\n",
              "\n",
              "<style>\n",
              "  .colab-df-quickchart {\n",
              "      --bg-color: #E8F0FE;\n",
              "      --fill-color: #1967D2;\n",
              "      --hover-bg-color: #E2EBFA;\n",
              "      --hover-fill-color: #174EA6;\n",
              "      --disabled-fill-color: #AAA;\n",
              "      --disabled-bg-color: #DDD;\n",
              "  }\n",
              "\n",
              "  [theme=dark] .colab-df-quickchart {\n",
              "      --bg-color: #3B4455;\n",
              "      --fill-color: #D2E3FC;\n",
              "      --hover-bg-color: #434B5C;\n",
              "      --hover-fill-color: #FFFFFF;\n",
              "      --disabled-bg-color: #3B4455;\n",
              "      --disabled-fill-color: #666;\n",
              "  }\n",
              "\n",
              "  .colab-df-quickchart {\n",
              "    background-color: var(--bg-color);\n",
              "    border: none;\n",
              "    border-radius: 50%;\n",
              "    cursor: pointer;\n",
              "    display: none;\n",
              "    fill: var(--fill-color);\n",
              "    height: 32px;\n",
              "    padding: 0;\n",
              "    width: 32px;\n",
              "  }\n",
              "\n",
              "  .colab-df-quickchart:hover {\n",
              "    background-color: var(--hover-bg-color);\n",
              "    box-shadow: 0 1px 2px rgba(60, 64, 67, 0.3), 0 1px 3px 1px rgba(60, 64, 67, 0.15);\n",
              "    fill: var(--button-hover-fill-color);\n",
              "  }\n",
              "\n",
              "  .colab-df-quickchart-complete:disabled,\n",
              "  .colab-df-quickchart-complete:disabled:hover {\n",
              "    background-color: var(--disabled-bg-color);\n",
              "    fill: var(--disabled-fill-color);\n",
              "    box-shadow: none;\n",
              "  }\n",
              "\n",
              "  .colab-df-spinner {\n",
              "    border: 2px solid var(--fill-color);\n",
              "    border-color: transparent;\n",
              "    border-bottom-color: var(--fill-color);\n",
              "    animation:\n",
              "      spin 1s steps(1) infinite;\n",
              "  }\n",
              "\n",
              "  @keyframes spin {\n",
              "    0% {\n",
              "      border-color: transparent;\n",
              "      border-bottom-color: var(--fill-color);\n",
              "      border-left-color: var(--fill-color);\n",
              "    }\n",
              "    20% {\n",
              "      border-color: transparent;\n",
              "      border-left-color: var(--fill-color);\n",
              "      border-top-color: var(--fill-color);\n",
              "    }\n",
              "    30% {\n",
              "      border-color: transparent;\n",
              "      border-left-color: var(--fill-color);\n",
              "      border-top-color: var(--fill-color);\n",
              "      border-right-color: var(--fill-color);\n",
              "    }\n",
              "    40% {\n",
              "      border-color: transparent;\n",
              "      border-right-color: var(--fill-color);\n",
              "      border-top-color: var(--fill-color);\n",
              "    }\n",
              "    60% {\n",
              "      border-color: transparent;\n",
              "      border-right-color: var(--fill-color);\n",
              "    }\n",
              "    80% {\n",
              "      border-color: transparent;\n",
              "      border-right-color: var(--fill-color);\n",
              "      border-bottom-color: var(--fill-color);\n",
              "    }\n",
              "    90% {\n",
              "      border-color: transparent;\n",
              "      border-bottom-color: var(--fill-color);\n",
              "    }\n",
              "  }\n",
              "</style>\n",
              "\n",
              "  <script>\n",
              "    async function quickchart(key) {\n",
              "      const quickchartButtonEl =\n",
              "        document.querySelector('#' + key + ' button');\n",
              "      quickchartButtonEl.disabled = true;  // To prevent multiple clicks.\n",
              "      quickchartButtonEl.classList.add('colab-df-spinner');\n",
              "      try {\n",
              "        const charts = await google.colab.kernel.invokeFunction(\n",
              "            'suggestCharts', [key], {});\n",
              "      } catch (error) {\n",
              "        console.error('Error during call to suggestCharts:', error);\n",
              "      }\n",
              "      quickchartButtonEl.classList.remove('colab-df-spinner');\n",
              "      quickchartButtonEl.classList.add('colab-df-quickchart-complete');\n",
              "    }\n",
              "    (() => {\n",
              "      let quickchartButtonEl =\n",
              "        document.querySelector('#df-669b885f-124a-41d1-9106-6645184c057c button');\n",
              "      quickchartButtonEl.style.display =\n",
              "        google.colab.kernel.accessAllowed ? 'block' : 'none';\n",
              "    })();\n",
              "  </script>\n",
              "</div>\n",
              "\n",
              "  <div id=\"id_2796ae1b-3e94-4cca-8215-333ff524951c\">\n",
              "    <style>\n",
              "      .colab-df-generate {\n",
              "        background-color: #E8F0FE;\n",
              "        border: none;\n",
              "        border-radius: 50%;\n",
              "        cursor: pointer;\n",
              "        display: none;\n",
              "        fill: #1967D2;\n",
              "        height: 32px;\n",
              "        padding: 0 0 0 0;\n",
              "        width: 32px;\n",
              "      }\n",
              "\n",
              "      .colab-df-generate:hover {\n",
              "        background-color: #E2EBFA;\n",
              "        box-shadow: 0px 1px 2px rgba(60, 64, 67, 0.3), 0px 1px 3px 1px rgba(60, 64, 67, 0.15);\n",
              "        fill: #174EA6;\n",
              "      }\n",
              "\n",
              "      [theme=dark] .colab-df-generate {\n",
              "        background-color: #3B4455;\n",
              "        fill: #D2E3FC;\n",
              "      }\n",
              "\n",
              "      [theme=dark] .colab-df-generate:hover {\n",
              "        background-color: #434B5C;\n",
              "        box-shadow: 0px 1px 3px 1px rgba(0, 0, 0, 0.15);\n",
              "        filter: drop-shadow(0px 1px 2px rgba(0, 0, 0, 0.3));\n",
              "        fill: #FFFFFF;\n",
              "      }\n",
              "    </style>\n",
              "    <button class=\"colab-df-generate\" onclick=\"generateWithVariable('final')\"\n",
              "            title=\"Generate code using this dataframe.\"\n",
              "            style=\"display:none;\">\n",
              "\n",
              "  <svg xmlns=\"http://www.w3.org/2000/svg\" height=\"24px\"viewBox=\"0 0 24 24\"\n",
              "       width=\"24px\">\n",
              "    <path d=\"M7,19H8.4L18.45,9,17,7.55,7,17.6ZM5,21V16.75L18.45,3.32a2,2,0,0,1,2.83,0l1.4,1.43a1.91,1.91,0,0,1,.58,1.4,1.91,1.91,0,0,1-.58,1.4L9.25,21ZM18.45,9,17,7.55Zm-12,3A5.31,5.31,0,0,0,4.9,8.1,5.31,5.31,0,0,0,1,6.5,5.31,5.31,0,0,0,4.9,4.9,5.31,5.31,0,0,0,6.5,1,5.31,5.31,0,0,0,8.1,4.9,5.31,5.31,0,0,0,12,6.5,5.46,5.46,0,0,0,6.5,12Z\"/>\n",
              "  </svg>\n",
              "    </button>\n",
              "    <script>\n",
              "      (() => {\n",
              "      const buttonEl =\n",
              "        document.querySelector('#id_2796ae1b-3e94-4cca-8215-333ff524951c button.colab-df-generate');\n",
              "      buttonEl.style.display =\n",
              "        google.colab.kernel.accessAllowed ? 'block' : 'none';\n",
              "\n",
              "      buttonEl.onclick = () => {\n",
              "        google.colab.notebook.generateWithVariable('final');\n",
              "      }\n",
              "      })();\n",
              "    </script>\n",
              "  </div>\n",
              "\n",
              "    </div>\n",
              "  </div>\n"
            ]
          },
          "metadata": {},
          "execution_count": 210
        }
      ]
    },
    {
      "cell_type": "code",
      "source": [
        "final.to_parquet('tox21_MMP_inactive_and_antagonist.parquet')"
      ],
      "metadata": {
        "id": "qlQzNkHX5GnA"
      },
      "execution_count": null,
      "outputs": []
    },
    {
      "cell_type": "code",
      "source": [
        "# f2 = pd.read_parquet('tox21_MMP_inactive_and_antagonist.parquet')"
      ],
      "metadata": {
        "id": "wCzKpOGv5TQn"
      },
      "execution_count": null,
      "outputs": []
    },
    {
      "cell_type": "markdown",
      "source": [
        "## Compare with ML/DL benchmark tox21"
      ],
      "metadata": {
        "id": "wRWWn0E32DQK"
      }
    },
    {
      "cell_type": "code",
      "source": [
        "!pip install PyTDC -qq"
      ],
      "metadata": {
        "colab": {
          "base_uri": "https://localhost:8080/"
        },
        "id": "SS1ga72n0zSe",
        "outputId": "0c192961-cf83-4e3d-95f7-04062b044816"
      },
      "execution_count": null,
      "outputs": [
        {
          "output_type": "stream",
          "name": "stdout",
          "text": [
            "\u001b[?25l     \u001b[90m━━━━━━━━━━━━━━━━━━━━━━━━━━━━━━━━━━━━━━━━\u001b[0m \u001b[32m0.0/107.7 kB\u001b[0m \u001b[31m?\u001b[0m eta \u001b[36m-:--:--\u001b[0m\r\u001b[2K     \u001b[91m━━━━━━━━━━━━━━━━━━━━━━━━━━━━━━━━━━━━━━\u001b[0m\u001b[90m╺\u001b[0m\u001b[90m━\u001b[0m \u001b[32m102.4/107.7 kB\u001b[0m \u001b[31m3.6 MB/s\u001b[0m eta \u001b[36m0:00:01\u001b[0m\r\u001b[2K     \u001b[90m━━━━━━━━━━━━━━━━━━━━━━━━━━━━━━━━━━━━━━━━\u001b[0m \u001b[32m107.7/107.7 kB\u001b[0m \u001b[31m2.4 MB/s\u001b[0m eta \u001b[36m0:00:00\u001b[0m\n",
            "\u001b[?25h  Preparing metadata (setup.py) ... \u001b[?25l\u001b[?25hdone\n",
            "\u001b[2K     \u001b[90m━━━━━━━━━━━━━━━━━━━━━━━━━━━━━━━━━━━━━━━━\u001b[0m \u001b[32m29.4/29.4 MB\u001b[0m \u001b[31m38.7 MB/s\u001b[0m eta \u001b[36m0:00:00\u001b[0m\n",
            "\u001b[?25h  Building wheel for PyTDC (setup.py) ... \u001b[?25l\u001b[?25hdone\n"
          ]
        }
      ]
    },
    {
      "cell_type": "code",
      "source": [
        "from tdc.utils import retrieve_label_name_list\n",
        "label_list = retrieve_label_name_list('Tox21')"
      ],
      "metadata": {
        "id": "XXpKeCm32KIw"
      },
      "execution_count": null,
      "outputs": []
    },
    {
      "cell_type": "code",
      "source": [
        "label_list"
      ],
      "metadata": {
        "colab": {
          "base_uri": "https://localhost:8080/"
        },
        "id": "dsE9diAe2PdC",
        "outputId": "e2a117b7-7d35-4eb2-9b9f-1399098a4606"
      },
      "execution_count": null,
      "outputs": [
        {
          "output_type": "execute_result",
          "data": {
            "text/plain": [
              "['NR-AR',\n",
              " 'NR-AR-LBD',\n",
              " 'NR-AhR',\n",
              " 'NR-Aromatase',\n",
              " 'NR-ER',\n",
              " 'NR-ER-LBD',\n",
              " 'NR-PPAR-gamma',\n",
              " 'SR-ARE',\n",
              " 'SR-ATAD5',\n",
              " 'SR-HSE',\n",
              " 'SR-MMP',\n",
              " 'SR-p53']"
            ]
          },
          "metadata": {},
          "execution_count": 215
        }
      ]
    },
    {
      "cell_type": "markdown",
      "source": [
        "We will take SR-MMP, as it is the same one we used."
      ],
      "metadata": {
        "id": "ajvQl8Np2TZF"
      }
    },
    {
      "cell_type": "code",
      "source": [
        "from tdc.single_pred import Tox\n",
        "data = Tox(name = 'Tox21', label_name = 'SR_MMP')\n",
        "split = data.get_split()"
      ],
      "metadata": {
        "colab": {
          "base_uri": "https://localhost:8080/"
        },
        "id": "y4tmg-8T2QJs",
        "outputId": "8eba414c-dd11-41b3-87d3-7c249010e6e0"
      },
      "execution_count": null,
      "outputs": [
        {
          "output_type": "stream",
          "name": "stderr",
          "text": [
            "Found local copy...\n",
            "Loading...\n",
            "Done!\n"
          ]
        }
      ]
    },
    {
      "cell_type": "code",
      "source": [
        "full = pd.concat([split['train'],split['valid'],split['test']]).reset_index(drop=True)"
      ],
      "metadata": {
        "id": "zjuIAcjp2c0v"
      },
      "execution_count": null,
      "outputs": []
    },
    {
      "cell_type": "code",
      "source": [
        "full = full.rename(columns = {'Drug':'SMILES'})"
      ],
      "metadata": {
        "id": "Qz4bztnw26q5"
      },
      "execution_count": null,
      "outputs": []
    },
    {
      "cell_type": "code",
      "source": [
        "full['SMILES2'] = full.SMILES.apply(preprocess_smiles)"
      ],
      "metadata": {
        "colab": {
          "base_uri": "https://localhost:8080/"
        },
        "id": "zjW9CahO6Zry",
        "outputId": "1637f21e-ecaa-41fd-d9d9-82613ec6bd6b"
      },
      "execution_count": null,
      "outputs": [
        {
          "output_type": "stream",
          "name": "stderr",
          "text": [
            "[04:48:40] WARNING: not removing hydrogen atom without neighbors\n",
            "[04:48:44] Can't kekulize mol.  Unkekulized atoms: 3 10\n"
          ]
        }
      ]
    },
    {
      "cell_type": "markdown",
      "source": [
        "It is very hard to know what they are (e.g., antagonist/agonist) in the benchmark dataset, as there are few information."
      ],
      "metadata": {
        "id": "7rQSMUtx2nFu"
      }
    },
    {
      "cell_type": "code",
      "source": [
        "full.shape"
      ],
      "metadata": {
        "colab": {
          "base_uri": "https://localhost:8080/"
        },
        "id": "A3sx2bqB3HIA",
        "outputId": "04bae6d2-3bce-484d-a734-ea38a6e6b5c1"
      },
      "execution_count": null,
      "outputs": [
        {
          "output_type": "execute_result",
          "data": {
            "text/plain": [
              "(5810, 4)"
            ]
          },
          "metadata": {},
          "execution_count": 220
        }
      ]
    },
    {
      "cell_type": "code",
      "source": [
        "# Let's check the difference of smiles after standardization\n",
        "full.loc[full.duplicated('SMILES2',keep=False)].sort_values('SMILES2')"
      ],
      "metadata": {
        "colab": {
          "base_uri": "https://localhost:8080/",
          "height": 444
        },
        "id": "A0wgLJBR-oSU",
        "outputId": "f54e4233-6193-4596-f673-8ec90f1264e7"
      },
      "execution_count": null,
      "outputs": [
        {
          "output_type": "execute_result",
          "data": {
            "text/plain": [
              "       Drug_ID                                             SMILES    Y  \\\n",
              "266    TOX7835                                C/C=C/C=C/C(=O)[O-]  0.0   \n",
              "5145   TOX1277                                   C/C=C/C=C/C(=O)O  0.0   \n",
              "2808  TOX24823                                    C=C(C)C(=O)[O-]  0.0   \n",
              "1625   TOX5542                                       C=C(C)C(=O)O  0.0   \n",
              "4775   TOX3349  C=CCN1CC[C@]23c4c5ccc(O)c4O[C@H]2C(=O)CC[C@@]3...  0.0   \n",
              "...        ...                                                ...  ...   \n",
              "4463   TOX5709                     [Ni+2].c1cc[cH-]c1.c1cc[cH-]c1  0.0   \n",
              "504    TOX5326                     [Fe+2].c1cc[cH-]c1.c1cc[cH-]c1  0.0   \n",
              "3016   TOX4615                     [Cr+2].c1cc[cH-]c1.c1cc[cH-]c1  0.0   \n",
              "2786  TOX12722                                         c1nc[n-]n1  0.0   \n",
              "711    TOX7131                                         c1nc[nH]n1  0.0   \n",
              "\n",
              "                                                SMILES2  \n",
              "266                                    C/C=C/C=C/C(=O)O  \n",
              "5145                                   C/C=C/C=C/C(=O)O  \n",
              "2808                                       C=C(C)C(=O)O  \n",
              "1625                                       C=C(C)C(=O)O  \n",
              "4775  C=CCN1CC[C@]23c4c5ccc(O)c4O[C@H]2C(=O)CC[C@@]3...  \n",
              "...                                                 ...  \n",
              "4463                                            c1cccc1  \n",
              "504                                             c1cccc1  \n",
              "3016                                            c1cccc1  \n",
              "2786                                         c1nc[nH]n1  \n",
              "711                                          c1nc[nH]n1  \n",
              "\n",
              "[265 rows x 4 columns]"
            ],
            "text/html": [
              "\n",
              "  <div id=\"df-e9515752-610f-4425-9a41-793a71ea37ed\" class=\"colab-df-container\">\n",
              "    <div>\n",
              "<style scoped>\n",
              "    .dataframe tbody tr th:only-of-type {\n",
              "        vertical-align: middle;\n",
              "    }\n",
              "\n",
              "    .dataframe tbody tr th {\n",
              "        vertical-align: top;\n",
              "    }\n",
              "\n",
              "    .dataframe thead th {\n",
              "        text-align: right;\n",
              "    }\n",
              "</style>\n",
              "<table border=\"1\" class=\"dataframe\">\n",
              "  <thead>\n",
              "    <tr style=\"text-align: right;\">\n",
              "      <th></th>\n",
              "      <th>Drug_ID</th>\n",
              "      <th>SMILES</th>\n",
              "      <th>Y</th>\n",
              "      <th>SMILES2</th>\n",
              "    </tr>\n",
              "  </thead>\n",
              "  <tbody>\n",
              "    <tr>\n",
              "      <th>266</th>\n",
              "      <td>TOX7835</td>\n",
              "      <td>C/C=C/C=C/C(=O)[O-]</td>\n",
              "      <td>0.0</td>\n",
              "      <td>C/C=C/C=C/C(=O)O</td>\n",
              "    </tr>\n",
              "    <tr>\n",
              "      <th>5145</th>\n",
              "      <td>TOX1277</td>\n",
              "      <td>C/C=C/C=C/C(=O)O</td>\n",
              "      <td>0.0</td>\n",
              "      <td>C/C=C/C=C/C(=O)O</td>\n",
              "    </tr>\n",
              "    <tr>\n",
              "      <th>2808</th>\n",
              "      <td>TOX24823</td>\n",
              "      <td>C=C(C)C(=O)[O-]</td>\n",
              "      <td>0.0</td>\n",
              "      <td>C=C(C)C(=O)O</td>\n",
              "    </tr>\n",
              "    <tr>\n",
              "      <th>1625</th>\n",
              "      <td>TOX5542</td>\n",
              "      <td>C=C(C)C(=O)O</td>\n",
              "      <td>0.0</td>\n",
              "      <td>C=C(C)C(=O)O</td>\n",
              "    </tr>\n",
              "    <tr>\n",
              "      <th>4775</th>\n",
              "      <td>TOX3349</td>\n",
              "      <td>C=CCN1CC[C@]23c4c5ccc(O)c4O[C@H]2C(=O)CC[C@@]3...</td>\n",
              "      <td>0.0</td>\n",
              "      <td>C=CCN1CC[C@]23c4c5ccc(O)c4O[C@H]2C(=O)CC[C@@]3...</td>\n",
              "    </tr>\n",
              "    <tr>\n",
              "      <th>...</th>\n",
              "      <td>...</td>\n",
              "      <td>...</td>\n",
              "      <td>...</td>\n",
              "      <td>...</td>\n",
              "    </tr>\n",
              "    <tr>\n",
              "      <th>4463</th>\n",
              "      <td>TOX5709</td>\n",
              "      <td>[Ni+2].c1cc[cH-]c1.c1cc[cH-]c1</td>\n",
              "      <td>0.0</td>\n",
              "      <td>c1cccc1</td>\n",
              "    </tr>\n",
              "    <tr>\n",
              "      <th>504</th>\n",
              "      <td>TOX5326</td>\n",
              "      <td>[Fe+2].c1cc[cH-]c1.c1cc[cH-]c1</td>\n",
              "      <td>0.0</td>\n",
              "      <td>c1cccc1</td>\n",
              "    </tr>\n",
              "    <tr>\n",
              "      <th>3016</th>\n",
              "      <td>TOX4615</td>\n",
              "      <td>[Cr+2].c1cc[cH-]c1.c1cc[cH-]c1</td>\n",
              "      <td>0.0</td>\n",
              "      <td>c1cccc1</td>\n",
              "    </tr>\n",
              "    <tr>\n",
              "      <th>2786</th>\n",
              "      <td>TOX12722</td>\n",
              "      <td>c1nc[n-]n1</td>\n",
              "      <td>0.0</td>\n",
              "      <td>c1nc[nH]n1</td>\n",
              "    </tr>\n",
              "    <tr>\n",
              "      <th>711</th>\n",
              "      <td>TOX7131</td>\n",
              "      <td>c1nc[nH]n1</td>\n",
              "      <td>0.0</td>\n",
              "      <td>c1nc[nH]n1</td>\n",
              "    </tr>\n",
              "  </tbody>\n",
              "</table>\n",
              "<p>265 rows × 4 columns</p>\n",
              "</div>\n",
              "    <div class=\"colab-df-buttons\">\n",
              "\n",
              "  <div class=\"colab-df-container\">\n",
              "    <button class=\"colab-df-convert\" onclick=\"convertToInteractive('df-e9515752-610f-4425-9a41-793a71ea37ed')\"\n",
              "            title=\"Convert this dataframe to an interactive table.\"\n",
              "            style=\"display:none;\">\n",
              "\n",
              "  <svg xmlns=\"http://www.w3.org/2000/svg\" height=\"24px\" viewBox=\"0 -960 960 960\">\n",
              "    <path d=\"M120-120v-720h720v720H120Zm60-500h600v-160H180v160Zm220 220h160v-160H400v160Zm0 220h160v-160H400v160ZM180-400h160v-160H180v160Zm440 0h160v-160H620v160ZM180-180h160v-160H180v160Zm440 0h160v-160H620v160Z\"/>\n",
              "  </svg>\n",
              "    </button>\n",
              "\n",
              "  <style>\n",
              "    .colab-df-container {\n",
              "      display:flex;\n",
              "      gap: 12px;\n",
              "    }\n",
              "\n",
              "    .colab-df-convert {\n",
              "      background-color: #E8F0FE;\n",
              "      border: none;\n",
              "      border-radius: 50%;\n",
              "      cursor: pointer;\n",
              "      display: none;\n",
              "      fill: #1967D2;\n",
              "      height: 32px;\n",
              "      padding: 0 0 0 0;\n",
              "      width: 32px;\n",
              "    }\n",
              "\n",
              "    .colab-df-convert:hover {\n",
              "      background-color: #E2EBFA;\n",
              "      box-shadow: 0px 1px 2px rgba(60, 64, 67, 0.3), 0px 1px 3px 1px rgba(60, 64, 67, 0.15);\n",
              "      fill: #174EA6;\n",
              "    }\n",
              "\n",
              "    .colab-df-buttons div {\n",
              "      margin-bottom: 4px;\n",
              "    }\n",
              "\n",
              "    [theme=dark] .colab-df-convert {\n",
              "      background-color: #3B4455;\n",
              "      fill: #D2E3FC;\n",
              "    }\n",
              "\n",
              "    [theme=dark] .colab-df-convert:hover {\n",
              "      background-color: #434B5C;\n",
              "      box-shadow: 0px 1px 3px 1px rgba(0, 0, 0, 0.15);\n",
              "      filter: drop-shadow(0px 1px 2px rgba(0, 0, 0, 0.3));\n",
              "      fill: #FFFFFF;\n",
              "    }\n",
              "  </style>\n",
              "\n",
              "    <script>\n",
              "      const buttonEl =\n",
              "        document.querySelector('#df-e9515752-610f-4425-9a41-793a71ea37ed button.colab-df-convert');\n",
              "      buttonEl.style.display =\n",
              "        google.colab.kernel.accessAllowed ? 'block' : 'none';\n",
              "\n",
              "      async function convertToInteractive(key) {\n",
              "        const element = document.querySelector('#df-e9515752-610f-4425-9a41-793a71ea37ed');\n",
              "        const dataTable =\n",
              "          await google.colab.kernel.invokeFunction('convertToInteractive',\n",
              "                                                    [key], {});\n",
              "        if (!dataTable) return;\n",
              "\n",
              "        const docLinkHtml = 'Like what you see? Visit the ' +\n",
              "          '<a target=\"_blank\" href=https://colab.research.google.com/notebooks/data_table.ipynb>data table notebook</a>'\n",
              "          + ' to learn more about interactive tables.';\n",
              "        element.innerHTML = '';\n",
              "        dataTable['output_type'] = 'display_data';\n",
              "        await google.colab.output.renderOutput(dataTable, element);\n",
              "        const docLink = document.createElement('div');\n",
              "        docLink.innerHTML = docLinkHtml;\n",
              "        element.appendChild(docLink);\n",
              "      }\n",
              "    </script>\n",
              "  </div>\n",
              "\n",
              "\n",
              "<div id=\"df-4cb7f821-042b-4fbe-9234-0c37e8d7f01e\">\n",
              "  <button class=\"colab-df-quickchart\" onclick=\"quickchart('df-4cb7f821-042b-4fbe-9234-0c37e8d7f01e')\"\n",
              "            title=\"Suggest charts\"\n",
              "            style=\"display:none;\">\n",
              "\n",
              "<svg xmlns=\"http://www.w3.org/2000/svg\" height=\"24px\"viewBox=\"0 0 24 24\"\n",
              "     width=\"24px\">\n",
              "    <g>\n",
              "        <path d=\"M19 3H5c-1.1 0-2 .9-2 2v14c0 1.1.9 2 2 2h14c1.1 0 2-.9 2-2V5c0-1.1-.9-2-2-2zM9 17H7v-7h2v7zm4 0h-2V7h2v10zm4 0h-2v-4h2v4z\"/>\n",
              "    </g>\n",
              "</svg>\n",
              "  </button>\n",
              "\n",
              "<style>\n",
              "  .colab-df-quickchart {\n",
              "      --bg-color: #E8F0FE;\n",
              "      --fill-color: #1967D2;\n",
              "      --hover-bg-color: #E2EBFA;\n",
              "      --hover-fill-color: #174EA6;\n",
              "      --disabled-fill-color: #AAA;\n",
              "      --disabled-bg-color: #DDD;\n",
              "  }\n",
              "\n",
              "  [theme=dark] .colab-df-quickchart {\n",
              "      --bg-color: #3B4455;\n",
              "      --fill-color: #D2E3FC;\n",
              "      --hover-bg-color: #434B5C;\n",
              "      --hover-fill-color: #FFFFFF;\n",
              "      --disabled-bg-color: #3B4455;\n",
              "      --disabled-fill-color: #666;\n",
              "  }\n",
              "\n",
              "  .colab-df-quickchart {\n",
              "    background-color: var(--bg-color);\n",
              "    border: none;\n",
              "    border-radius: 50%;\n",
              "    cursor: pointer;\n",
              "    display: none;\n",
              "    fill: var(--fill-color);\n",
              "    height: 32px;\n",
              "    padding: 0;\n",
              "    width: 32px;\n",
              "  }\n",
              "\n",
              "  .colab-df-quickchart:hover {\n",
              "    background-color: var(--hover-bg-color);\n",
              "    box-shadow: 0 1px 2px rgba(60, 64, 67, 0.3), 0 1px 3px 1px rgba(60, 64, 67, 0.15);\n",
              "    fill: var(--button-hover-fill-color);\n",
              "  }\n",
              "\n",
              "  .colab-df-quickchart-complete:disabled,\n",
              "  .colab-df-quickchart-complete:disabled:hover {\n",
              "    background-color: var(--disabled-bg-color);\n",
              "    fill: var(--disabled-fill-color);\n",
              "    box-shadow: none;\n",
              "  }\n",
              "\n",
              "  .colab-df-spinner {\n",
              "    border: 2px solid var(--fill-color);\n",
              "    border-color: transparent;\n",
              "    border-bottom-color: var(--fill-color);\n",
              "    animation:\n",
              "      spin 1s steps(1) infinite;\n",
              "  }\n",
              "\n",
              "  @keyframes spin {\n",
              "    0% {\n",
              "      border-color: transparent;\n",
              "      border-bottom-color: var(--fill-color);\n",
              "      border-left-color: var(--fill-color);\n",
              "    }\n",
              "    20% {\n",
              "      border-color: transparent;\n",
              "      border-left-color: var(--fill-color);\n",
              "      border-top-color: var(--fill-color);\n",
              "    }\n",
              "    30% {\n",
              "      border-color: transparent;\n",
              "      border-left-color: var(--fill-color);\n",
              "      border-top-color: var(--fill-color);\n",
              "      border-right-color: var(--fill-color);\n",
              "    }\n",
              "    40% {\n",
              "      border-color: transparent;\n",
              "      border-right-color: var(--fill-color);\n",
              "      border-top-color: var(--fill-color);\n",
              "    }\n",
              "    60% {\n",
              "      border-color: transparent;\n",
              "      border-right-color: var(--fill-color);\n",
              "    }\n",
              "    80% {\n",
              "      border-color: transparent;\n",
              "      border-right-color: var(--fill-color);\n",
              "      border-bottom-color: var(--fill-color);\n",
              "    }\n",
              "    90% {\n",
              "      border-color: transparent;\n",
              "      border-bottom-color: var(--fill-color);\n",
              "    }\n",
              "  }\n",
              "</style>\n",
              "\n",
              "  <script>\n",
              "    async function quickchart(key) {\n",
              "      const quickchartButtonEl =\n",
              "        document.querySelector('#' + key + ' button');\n",
              "      quickchartButtonEl.disabled = true;  // To prevent multiple clicks.\n",
              "      quickchartButtonEl.classList.add('colab-df-spinner');\n",
              "      try {\n",
              "        const charts = await google.colab.kernel.invokeFunction(\n",
              "            'suggestCharts', [key], {});\n",
              "      } catch (error) {\n",
              "        console.error('Error during call to suggestCharts:', error);\n",
              "      }\n",
              "      quickchartButtonEl.classList.remove('colab-df-spinner');\n",
              "      quickchartButtonEl.classList.add('colab-df-quickchart-complete');\n",
              "    }\n",
              "    (() => {\n",
              "      let quickchartButtonEl =\n",
              "        document.querySelector('#df-4cb7f821-042b-4fbe-9234-0c37e8d7f01e button');\n",
              "      quickchartButtonEl.style.display =\n",
              "        google.colab.kernel.accessAllowed ? 'block' : 'none';\n",
              "    })();\n",
              "  </script>\n",
              "</div>\n",
              "\n",
              "    </div>\n",
              "  </div>\n"
            ]
          },
          "metadata": {},
          "execution_count": 221
        }
      ]
    },
    {
      "cell_type": "code",
      "source": [
        "full['SMILES'] = full['SMILES2']"
      ],
      "metadata": {
        "id": "oSndo311__px"
      },
      "execution_count": null,
      "outputs": []
    },
    {
      "cell_type": "code",
      "source": [
        "overlap = full.merge(final) # overlap with our dataset"
      ],
      "metadata": {
        "id": "mi5KX7EW2eAD"
      },
      "execution_count": null,
      "outputs": []
    },
    {
      "cell_type": "code",
      "source": [
        "overlap.shape # we have these many overlap with the benchmark dataset"
      ],
      "metadata": {
        "colab": {
          "base_uri": "https://localhost:8080/"
        },
        "id": "KDGFe5ce5R39",
        "outputId": "ebdaf80f-8328-4e38-ba7d-499e4ae38881"
      },
      "execution_count": null,
      "outputs": [
        {
          "output_type": "execute_result",
          "data": {
            "text/plain": [
              "(5020, 10)"
            ]
          },
          "metadata": {},
          "execution_count": 226
        }
      ]
    },
    {
      "cell_type": "code",
      "source": [
        "overlap.apply(lambda r: r.Y==r.target,axis=1).value_counts() # the overlap datasets agree with each other"
      ],
      "metadata": {
        "colab": {
          "base_uri": "https://localhost:8080/"
        },
        "id": "1YlXpdCn5TIq",
        "outputId": "58170f06-eb07-4a90-ee10-2df8c8d09189"
      },
      "execution_count": null,
      "outputs": [
        {
          "output_type": "execute_result",
          "data": {
            "text/plain": [
              "True    5020\n",
              "dtype: int64"
            ]
          },
          "metadata": {},
          "execution_count": 227
        }
      ]
    },
    {
      "cell_type": "code",
      "source": [
        "overlap.ASSAY_OUTCOME.value_counts()\n",
        "# it is mainly inactive and active antagonist, the benchmark did not include those inclucsive antagonist"
      ],
      "metadata": {
        "colab": {
          "base_uri": "https://localhost:8080/"
        },
        "id": "BrufVjo_5e7p",
        "outputId": "004d3c57-8868-47a6-d362-f79d7a5c4bad"
      },
      "execution_count": null,
      "outputs": [
        {
          "output_type": "execute_result",
          "data": {
            "text/plain": [
              "inactive             4321\n",
              "active antagonist     699\n",
              "Name: ASSAY_OUTCOME, dtype: int64"
            ]
          },
          "metadata": {},
          "execution_count": 228
        }
      ]
    },
    {
      "cell_type": "code",
      "source": [
        "# check those that do not overlap with the benchmark, seems to be inclucsive antagonist\n",
        "final.loc[~final.SMILES.isin(overlap.SMILES)].ASSAY_OUTCOME.value_counts()"
      ],
      "metadata": {
        "colab": {
          "base_uri": "https://localhost:8080/"
        },
        "id": "xMSsL6RA5t0M",
        "outputId": "b5e1b63e-8f36-4111-c6db-14af932dca3d"
      },
      "execution_count": null,
      "outputs": [
        {
          "output_type": "execute_result",
          "data": {
            "text/plain": [
              "inactive                               380\n",
              "inconclusive antagonist (cytotoxic)    198\n",
              "inconclusive antagonist                174\n",
              "active antagonist                       58\n",
              "Name: ASSAY_OUTCOME, dtype: int64"
            ]
          },
          "metadata": {},
          "execution_count": 229
        }
      ]
    }
  ]
}